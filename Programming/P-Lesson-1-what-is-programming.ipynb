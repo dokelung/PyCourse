{
 "cells": [
  {
   "cell_type": "markdown",
   "metadata": {},
   "source": [
    "# P-Lesson-1: What Is Programming\n",
    "\n",
    "## Think\n",
    "\n",
    "* 程式設計是什麼?\n",
    "* 為什麼用電腦來解決問題?\n",
    "\n",
    "## Outline\n",
    "* 用程式解決問題 - 從人腦到電腦，從演算法到代碼\n",
    "* 程式語言的選擇\n",
    " * 程式語言的特性與共性"
   ]
  },
  {
   "cell_type": "markdown",
   "metadata": {},
   "source": [
    "##  用程式解決問題 - 從人腦到電腦，從演算法到代碼\n",
    "\n",
    "### 延伸閱讀\n",
    "\n",
    "[Algorithm-演算法](http://www.csie.ntnu.edu.tw/~u91029/Algorithm.html)\n",
    "\n",
    "### Ex: 計算若干數字的平均值\n",
    "\n",
    "#### 直覺的想法 (人腦)\n",
    "\n",
    "```\n",
    "(第一個版本)\n",
    "1. 加總所有數字\n",
    "2. 總和除以數字的數量\n",
    "```\n",
    "\n",
    "#### 能將步驟切得更細一點嗎? (演算法)\n",
    "\n",
    "```\n",
    "(第二個版本)\n",
    "1. 加總所有數字\n",
    "  * 走訪所有數字，一個接著一個\n",
    "    * 將碰到的數字加到總和裡\n",
    "2. 得出數字的數量\n",
    "  * 走訪所有數字，一個接著一個\n",
    "    * 每碰到一個數字就把總數加1\n",
    "3. 將總和除以總數\n",
    "```\n",
    "\n",
    "#### 能夠簡化步驟嗎? (優化演算法)\n",
    "\n",
    "```\n",
    "(第三個版本)\n",
    "1. 加總所有數字並且得出數字的數量\n",
    "  * 走訪所有數字，一個接著一個\n",
    "    * 將碰到的數字加到總和裡\n",
    "    * 每碰到一個數字就把總數加1\n",
    "2. 將總和除以總數\n",
    "```\n",
    "\n",
    "#### 能將演算法寫成電腦看得懂的語言嗎? (coding)\n"
   ]
  },
  {
   "cell_type": "code",
   "execution_count": 2,
   "metadata": {
    "collapsed": false
   },
   "outputs": [
    {
     "name": "stdout",
     "output_type": "stream",
     "text": [
      "2.0\n"
     ]
    }
   ],
   "source": [
    "numbers = [1, 2, 3]\n",
    "\n",
    "sum = 0\n",
    "count = 0\n",
    "\n",
    "for number in numbers:\n",
    "    sum = sum + number\n",
    "    count = count + 1\n",
    "    \n",
    "print(sum/count)"
   ]
  },
  {
   "cell_type": "markdown",
   "metadata": {},
   "source": [
    "### Ex: 判斷某數字是否為質數\n",
    "\n",
    "#### 演算法\n",
    "\n",
    "```\n",
    "1. 如果 x 比 2 小，x 一定不是質數\n",
    "2. 如果 x 就是 2，x 一定是整數\n",
    "3. 如果 x 可以被 2 到 x-1 的整數整除的話，x 一定不是質數\n",
    "4. 不然 x 一定是質數了\n",
    "```\n",
    "\n",
    "#### 寫成代碼"
   ]
  },
  {
   "cell_type": "code",
   "execution_count": null,
   "metadata": {
    "collapsed": true
   },
   "outputs": [],
   "source": [
    "def is_prime(x):\n",
    "    if x < 2:\n",
    "        return False\n",
    "    if x == 2:\n",
    "        return True\n",
    "    for i in range(2,x): # range(a,b) means [a,b)\n",
    "        if x % i == 0:\n",
    "            return False\n",
    "    return True"
   ]
  },
  {
   "cell_type": "code",
   "execution_count": null,
   "metadata": {
    "collapsed": true
   },
   "outputs": [],
   "source": [
    "is_prime(5)"
   ]
  },
  {
   "cell_type": "markdown",
   "metadata": {},
   "source": [
    "#### 演算法能夠更詳細嗎? 可以更精簡嗎?"
   ]
  },
  {
   "cell_type": "markdown",
   "metadata": {},
   "source": [
    "## 程式語言的選擇\n",
    "\n",
    "### 百家爭鳴，各有所長\n",
    "\n",
    "```\n",
    "沒有最好的語言，只有最適合的語言\n",
    "沒有最好的語言，只有最好的程式設計師\n",
    "沒有最好的語言，只有最好的特性實作\n",
    "沒有最好的語言，只有最喜歡的語言\n",
    "```\n",
    "\n",
    "#### 語言的特性\n",
    "\n",
    "* 靜態與動態\n",
    "* 直譯與編譯\n",
    "* 強定型與弱定型\n",
    "* 不變與萬變\n",
    "* 底層與高層\n",
    "* 執行效率與撰寫效率\n",
    "* 風格\n",
    "* 跨平台\n",
    "* 整合能力\n",
    "* 氣質\n",
    "\n",
    "#### 語言的共性\n",
    "\n",
    "* 資料\n",
    "* 運算\n",
    "* 變數\n",
    "* 選擇\n",
    "* 重複\n",
    "* 函數\n",
    "* 物件\n",
    "* 讀寫\n",
    "* 執行期錯誤\n",
    "* 套件/函式庫"
   ]
  },
  {
   "cell_type": "markdown",
   "metadata": {},
   "source": [
    "## 練習\n",
    "\n",
    "試著想想下列問題的解決方法並試著將他轉換為演算法\n",
    "\n",
    "1. 計算英文文章每個字母出現的次數\n",
    "2. 猜數字遊戲，如何比對玩家猜的數字與正確答案而給出幾 A 幾 B 的提示"
   ]
  }
 ],
 "metadata": {
  "kernelspec": {
   "display_name": "Python 3",
   "language": "python",
   "name": "python3"
  },
  "language_info": {
   "codemirror_mode": {
    "name": "ipython",
    "version": 3
   },
   "file_extension": ".py",
   "mimetype": "text/x-python",
   "name": "python",
   "nbconvert_exporter": "python",
   "pygments_lexer": "ipython3",
   "version": "3.5.1"
  }
 },
 "nbformat": 4,
 "nbformat_minor": 2
}
