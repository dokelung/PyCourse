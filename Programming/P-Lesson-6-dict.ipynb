{
 "cells": [
  {
   "cell_type": "markdown",
   "metadata": {},
   "source": [
    "# P-Lesson-6: Dictionary\n",
    "\n",
    "## Outline\n",
    "\n",
    "* List\n",
    " * 長度與元素存取\n",
    " * 存在關係\n",
    " * 排序與倒序\n",
    " * 迭代\n",
    " * 切片\n",
    " * 拆取\n",
    " * list comprehension\n",
    " * 物件參照\n",
    " * 深複製與淺複製"
   ]
  },
  {
   "cell_type": "code",
   "execution_count": null,
   "metadata": {},
   "outputs": [],
   "source": []
  }
 ],
 "metadata": {
  "kernelspec": {
   "display_name": "Python 3",
   "language": "python",
   "name": "python3"
  },
  "language_info": {
   "codemirror_mode": {
    "name": "ipython",
    "version": 3
   },
   "file_extension": ".py",
   "mimetype": "text/x-python",
   "name": "python",
   "nbconvert_exporter": "python",
   "pygments_lexer": "ipython3",
   "version": "3.6.3"
  }
 },
 "nbformat": 4,
 "nbformat_minor": 2
}
