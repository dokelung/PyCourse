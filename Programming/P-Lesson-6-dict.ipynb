{
 "cells": [
  {
   "cell_type": "markdown",
   "metadata": {},
   "source": [
    "# P-Lesson-6: Dictionary\n",
    "\n",
    "## Outline\n",
    "\n",
    "* Dictionary\n",
    " * 長度與元素存取\n",
    " * 存在關係\n",
    " * 迭代\n",
    " * dictionary comprehension\n",
    " * 更多製造字典的方式\n",
    " * 物件參照"
   ]
  },
  {
   "cell_type": "markdown",
   "metadata": {},
   "source": [
    "## Dict\n",
    "\n",
    "* dict 的特徵是大括號，裡面可以擺置任意數量的 **鍵值對(key/value pair)**，彼此以逗號 `,` 隔開\n",
    "* dict 的鍵值對的形式是: `key:value`\n",
    "* dict 的 \"鍵\" 只能是 hashable 的資料\n",
    "* dict 的 \"值\" 可以是任何型態的資料，包含群集資料\n",
    "* dict 是 **無序** 的，屬於映射型的資料結構\n",
    "\n",
    "### 長度與元素存取"
   ]
  },
  {
   "cell_type": "code",
   "execution_count": 16,
   "metadata": {},
   "outputs": [
    {
     "name": "stdout",
     "output_type": "stream",
     "text": [
      "{'name': 'dokelung', 'age': 27}\n"
     ]
    }
   ],
   "source": [
    "# dict\n",
    "dic = {'name':'dokelung', 'age':27}\n",
    "print(dic)"
   ]
  },
  {
   "cell_type": "code",
   "execution_count": 17,
   "metadata": {},
   "outputs": [
    {
     "name": "stdout",
     "output_type": "stream",
     "text": [
      "2\n"
     ]
    }
   ],
   "source": [
    "# length\n",
    "print(len(dic))"
   ]
  },
  {
   "cell_type": "code",
   "execution_count": 18,
   "metadata": {},
   "outputs": [
    {
     "name": "stdout",
     "output_type": "stream",
     "text": [
      "dokelung\n",
      "27\n"
     ]
    },
    {
     "ename": "KeyError",
     "evalue": "'city'",
     "output_type": "error",
     "traceback": [
      "\u001b[1;31m---------------------------------------------------------------------------\u001b[0m",
      "\u001b[1;31mKeyError\u001b[0m                                  Traceback (most recent call last)",
      "\u001b[1;32m<ipython-input-18-fa6900234e3f>\u001b[0m in \u001b[0;36m<module>\u001b[1;34m()\u001b[0m\n\u001b[0;32m      2\u001b[0m \u001b[0mprint\u001b[0m\u001b[1;33m(\u001b[0m\u001b[0mdic\u001b[0m\u001b[1;33m[\u001b[0m\u001b[1;34m'name'\u001b[0m\u001b[1;33m]\u001b[0m\u001b[1;33m)\u001b[0m\u001b[1;33m\u001b[0m\u001b[0m\n\u001b[0;32m      3\u001b[0m \u001b[0mprint\u001b[0m\u001b[1;33m(\u001b[0m\u001b[0mdic\u001b[0m\u001b[1;33m[\u001b[0m\u001b[1;34m'age'\u001b[0m\u001b[1;33m]\u001b[0m\u001b[1;33m)\u001b[0m\u001b[1;33m\u001b[0m\u001b[0m\n\u001b[1;32m----> 4\u001b[1;33m \u001b[0mprint\u001b[0m\u001b[1;33m(\u001b[0m\u001b[0mdic\u001b[0m\u001b[1;33m[\u001b[0m\u001b[1;34m'city'\u001b[0m\u001b[1;33m]\u001b[0m\u001b[1;33m)\u001b[0m \u001b[1;31m# KeyError: 'city\u001b[0m\u001b[1;33m\u001b[0m\u001b[0m\n\u001b[0m",
      "\u001b[1;31mKeyError\u001b[0m: 'city'"
     ]
    }
   ],
   "source": [
    "# get item\n",
    "print(dic['name'])\n",
    "print(dic['age'])\n",
    "print(dic['city']) # KeyError: 'city"
   ]
  },
  {
   "cell_type": "code",
   "execution_count": 19,
   "metadata": {},
   "outputs": [
    {
     "name": "stdout",
     "output_type": "stream",
     "text": [
      "{'name': 'dokelung', 'age': 28}\n"
     ]
    }
   ],
   "source": [
    "# set/change item\n",
    "dic['age'] = dic['age'] + 1\n",
    "print(dic)"
   ]
  },
  {
   "cell_type": "code",
   "execution_count": 21,
   "metadata": {},
   "outputs": [
    {
     "name": "stdout",
     "output_type": "stream",
     "text": [
      "{'name': 'dokelung', 'age': 28, 'city': 'Taipei'}\n"
     ]
    }
   ],
   "source": [
    "# add item\n",
    "dic['city'] = 'Taipei'\n",
    "print(dic)"
   ]
  },
  {
   "cell_type": "markdown",
   "metadata": {},
   "source": [
    "### 存在關係"
   ]
  },
  {
   "cell_type": "code",
   "execution_count": 23,
   "metadata": {},
   "outputs": [
    {
     "name": "stdout",
     "output_type": "stream",
     "text": [
      "True\n",
      "False\n"
     ]
    }
   ],
   "source": [
    "print('name' in dic)\n",
    "print('job' in dic)"
   ]
  },
  {
   "cell_type": "markdown",
   "metadata": {},
   "source": [
    "### 練習 \n",
    "\n",
    "設計一個 function `make_frequency_table` 計算 list 中各字母出現的次數, 並回傳一個 dict\n",
    "\n",
    "範例:\n",
    "\n",
    "```python\n",
    "lst = [a', 'b', 'a', 'c', 'e', 'c', 'e', 'e', 'l', 'p', 'a', 'b', 's']\n",
    "dic = make_frequency_table(lst)\n",
    "print(dic)\n",
    "```\n",
    "\n",
    "結果:\n",
    "\n",
    "```python\n",
    "{'a': 3, 'b': 2, 'c': 2, 'e': 3, 'l': 1, 'p': 1, 's': 1}\n",
    "```"
   ]
  },
  {
   "cell_type": "code",
   "execution_count": 31,
   "metadata": {},
   "outputs": [],
   "source": [
    "lst1 = ['a', 'b', 'a', 'c', 'e', 'c', 'e', 'e', 'l', 'p', 'a', 'b', 's']\n",
    "lst2 = ['a', 'a', 'o', 'o', 'x']\n",
    "# write a function named make_frequency_table\n",
    "# dic1 = make_frequency_table(lst1)\n",
    "# dic2 = make_frequency_table(lst2)"
   ]
  },
  {
   "cell_type": "markdown",
   "metadata": {},
   "source": [
    "### 迭代"
   ]
  },
  {
   "cell_type": "code",
   "execution_count": 32,
   "metadata": {},
   "outputs": [
    {
     "name": "stdout",
     "output_type": "stream",
     "text": [
      "name dokelung\n",
      "age 27\n"
     ]
    }
   ],
   "source": [
    "# iter keys of a dictonary\n",
    "dic = {'name':'dokelung', 'age':27}\n",
    "\n",
    "for key in dic:\n",
    "    print(key, dic[key])\n",
    "    \n",
    "# for key in dic.keys():\n",
    "#     print(key, dic[key])"
   ]
  },
  {
   "cell_type": "code",
   "execution_count": 35,
   "metadata": {},
   "outputs": [
    {
     "name": "stdout",
     "output_type": "stream",
     "text": [
      "name dokelung\n",
      "age 27\n"
     ]
    }
   ],
   "source": [
    "# iter keys, values of a dictionary\n",
    "for key, value in dic.items():\n",
    "    print(key, value)"
   ]
  },
  {
   "cell_type": "code",
   "execution_count": 36,
   "metadata": {},
   "outputs": [
    {
     "name": "stdout",
     "output_type": "stream",
     "text": [
      "dict_items([('name', 'dokelung'), ('age', 27)])\n"
     ]
    }
   ],
   "source": [
    "print(dic.items())"
   ]
  },
  {
   "cell_type": "markdown",
   "metadata": {},
   "source": [
    "### dictionary comprehension"
   ]
  },
  {
   "cell_type": "code",
   "execution_count": 53,
   "metadata": {},
   "outputs": [
    {
     "name": "stdout",
     "output_type": "stream",
     "text": [
      "<zip object at 0x043DCE90>\n",
      "{'John': 90, 'Kitty': 100}\n"
     ]
    }
   ],
   "source": [
    "names = ['John', 'Mary', 'Kitty']\n",
    "scores = [90, 45, 100]\n",
    "\n",
    "print(zip(names, scores))\n",
    "\n",
    "table = {name: score for name, score in zip(names, scores) if score > 60}\n",
    "print(table)"
   ]
  },
  {
   "cell_type": "markdown",
   "metadata": {},
   "source": [
    "### 更多製造字典的方式\n",
    "\n",
    "利用內建工廠函式 `dict`"
   ]
  },
  {
   "cell_type": "code",
   "execution_count": 44,
   "metadata": {},
   "outputs": [
    {
     "name": "stdout",
     "output_type": "stream",
     "text": [
      "{'name': 'dokelung', 'age': 27}\n",
      "{'name': 'dokelung', 'age': 27}\n",
      "{'name': 'dokelung', 'age': 27}\n",
      "{'name': 'dokelung', 'age': 27}\n"
     ]
    }
   ],
   "source": [
    "dic1 = {'name':'dokelung', 'age':27}\n",
    "dic2 = dict({'name':'dokelung', 'age':27})\n",
    "dic3 = dict(name='dokelung', age=27)\n",
    "dic4 = dict([('name', 'dokelung'), ('age', 27)])\n",
    "print(dic1)\n",
    "print(dic2)\n",
    "print(dic3)\n",
    "print(dic4)"
   ]
  },
  {
   "cell_type": "markdown",
   "metadata": {},
   "source": [
    "### 物件參照"
   ]
  },
  {
   "cell_type": "code",
   "execution_count": 45,
   "metadata": {},
   "outputs": [
    {
     "name": "stdout",
     "output_type": "stream",
     "text": [
      "True\n",
      "False\n"
     ]
    }
   ],
   "source": [
    "# equal and id\n",
    "print(dic1==dic2)\n",
    "print(dic1 is dic2)"
   ]
  },
  {
   "cell_type": "code",
   "execution_count": 47,
   "metadata": {},
   "outputs": [
    {
     "name": "stdout",
     "output_type": "stream",
     "text": [
      "[-1, 0, 0]\n",
      "{'a': 1, 'b': 2, 'inter': [-1, 0, 0]}\n"
     ]
    }
   ],
   "source": [
    "inter = [0, 0, 0]\n",
    "dic = {'a': 1, 'b': 2, 'inter': inter}\n",
    "\n",
    "dic['inter'][0] = -1\n",
    "print(inter)\n",
    "print(dic)"
   ]
  },
  {
   "cell_type": "code",
   "execution_count": 49,
   "metadata": {},
   "outputs": [
    {
     "name": "stdout",
     "output_type": "stream",
     "text": [
      "{'a': 1, 'b': 2, 'c': 3} {'a': 1, 'b': 2, 'c': 3}\n",
      "{'a': 'xxxxx', 'b': 2, 'c': 3} {'a': 'xxxxx', 'b': 2, 'c': 3}\n"
     ]
    }
   ],
   "source": [
    "dic1 = {'a': 1, 'b': 2, 'c':3}\n",
    "dic2 = dic1\n",
    "print(dic1, dic2)\n",
    "dic2['a'] = 'xxxxx'\n",
    "print(dic1, dic2)"
   ]
  },
  {
   "cell_type": "markdown",
   "metadata": {},
   "source": [
    "#### 所以 dictionay 一樣會有深複製淺複製的問題"
   ]
  }
 ],
 "metadata": {
  "kernelspec": {
   "display_name": "Python 3",
   "language": "python",
   "name": "python3"
  },
  "language_info": {
   "codemirror_mode": {
    "name": "ipython",
    "version": 3
   },
   "file_extension": ".py",
   "mimetype": "text/x-python",
   "name": "python",
   "nbconvert_exporter": "python",
   "pygments_lexer": "ipython3",
   "version": "3.6.1"
  }
 },
 "nbformat": 4,
 "nbformat_minor": 2
}
