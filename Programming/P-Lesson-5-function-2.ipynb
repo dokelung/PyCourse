{
 "cells": [
  {
   "cell_type": "markdown",
   "metadata": {},
   "source": [
    "# P-Lesson-5: Function-2\n",
    "\n",
    "## Outline\n",
    "\n",
    "* 關於參數\n",
    "  * 參數的預設值\n",
    "  * 參數的拆解與集成\n",
    "* 遞迴\n",
    "* lambda 函式\n",
    "* 閉包\n",
    "  * 區域函式\n",
    "  * local 與 non local"
   ]
  },
  {
   "cell_type": "code",
   "execution_count": null,
   "metadata": {
    "collapsed": true
   },
   "outputs": [],
   "source": []
  }
 ],
 "metadata": {
  "kernelspec": {
   "display_name": "Python 3",
   "language": "python",
   "name": "python3"
  },
  "language_info": {
   "codemirror_mode": {
    "name": "ipython",
    "version": 3
   },
   "file_extension": ".py",
   "mimetype": "text/x-python",
   "name": "python",
   "nbconvert_exporter": "python",
   "pygments_lexer": "ipython3",
   "version": "3.5.1"
  }
 },
 "nbformat": 4,
 "nbformat_minor": 1
}
