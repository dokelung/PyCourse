{
 "cells": [
  {
   "cell_type": "markdown",
   "metadata": {},
   "source": [
    "# P-Lesson-9: Module and Package\n",
    "\n",
    "\n",
    "## Outline\n",
    "\n",
    "* 模組與匯入\n",
    " * 取別名\n",
    " * 一次匯入多個模組\n",
    "* 名稱空間 (namespace)\n",
    "* 匯入到頂層空間\n",
    "* 不安全的匯入\n",
    "* 套件 (package)\n",
    "* 第三方套件與模組\n",
    " * PyPI\n",
    " * pip\n",
    " * 常用的第三方套件與模組"
   ]
  },
  {
   "cell_type": "markdown",
   "metadata": {},
   "source": [
    "## 模組與匯入\n",
    " \n",
    "* 一個模組簡單來說就是一個 Python 檔案\n",
    "* 而在模組中會出現的不外乎就是\n",
    " * 運算\n",
    " * 函式\n",
    " * 類別\n",
    " \n",
    "而我們主要還是想要利用函式跟類別這兩部分。"
   ]
  },
  {
   "cell_type": "code",
   "execution_count": 1,
   "metadata": {},
   "outputs": [
    {
     "name": "stdout",
     "output_type": "stream",
     "text": [
      "['c:\\\\users\\\\ko-lung yuan\\\\appdata\\\\local\\\\programs\\\\python\\\\python36-32\\\\lib\\\\site-packages\\\\ipykernel_launcher.py', '-f', 'C:\\\\Users\\\\Ko-Lung Yuan\\\\AppData\\\\Roaming\\\\jupyter\\\\runtime\\\\kernel-05a44f88-3872-481d-b35f-4b98f9a03022.json']\n"
     ]
    }
   ],
   "source": [
    "import sys\n",
    "\n",
    "print(sys.argv)"
   ]
  },
  {
   "cell_type": "markdown",
   "metadata": {},
   "source": [
    "`sys.argv` 是個很常用的清單，他能夠幫助我們取得命令列上的參數"
   ]
  },
  {
   "cell_type": "markdown",
   "metadata": {},
   "source": [
    "### 取別名\n",
    "\n",
    "使用 `import <模組名> as <別名>` 來設定一個更方便的名稱"
   ]
  },
  {
   "cell_type": "code",
   "execution_count": 2,
   "metadata": {},
   "outputs": [
    {
     "name": "stdout",
     "output_type": "stream",
     "text": [
      "['c:\\\\users\\\\ko-lung yuan\\\\appdata\\\\local\\\\programs\\\\python\\\\python36-32\\\\lib\\\\site-packages\\\\ipykernel_launcher.py', '-f', 'C:\\\\Users\\\\Ko-Lung Yuan\\\\AppData\\\\Roaming\\\\jupyter\\\\runtime\\\\kernel-05a44f88-3872-481d-b35f-4b98f9a03022.json']\n"
     ]
    }
   ],
   "source": [
    "import sys as s\n",
    "\n",
    "print(s.argv)"
   ]
  },
  {
   "cell_type": "markdown",
   "metadata": {},
   "source": [
    "### 一次匯入多個模組\n",
    "\n",
    "我們可以用一個 `import` 敘述匯入多個模組"
   ]
  },
  {
   "cell_type": "code",
   "execution_count": 3,
   "metadata": {
    "collapsed": true
   },
   "outputs": [],
   "source": [
    "import os, sys"
   ]
  },
  {
   "cell_type": "markdown",
   "metadata": {},
   "source": [
    "## 名稱空間 (namespace)\n",
    "\n",
    "名稱空間顧名思義就是收集名稱的空間，每個名稱空間只會認得自己空間內的名字"
   ]
  },
  {
   "cell_type": "code",
   "execution_count": 4,
   "metadata": {},
   "outputs": [
    {
     "name": "stdout",
     "output_type": "stream",
     "text": [
      "['In', 'Out', '_', '__', '___', '__builtin__', '__builtins__', '__doc__', '__loader__', '__name__', '__package__', '__spec__', '_dh', '_i', '_i1', '_i2', '_i3', '_i4', '_ih', '_ii', '_iii', '_oh', 'exit', 'get_ipython', 'os', 'quit', 's', 'sys']\n"
     ]
    }
   ],
   "source": [
    "print(dir())"
   ]
  },
  {
   "cell_type": "code",
   "execution_count": 5,
   "metadata": {},
   "outputs": [
    {
     "name": "stdout",
     "output_type": "stream",
     "text": [
      "['In', 'Out', '_', '__', '___', '__builtin__', '__builtins__', '__doc__', '__loader__', '__name__', '__package__', '__spec__', '_dh', '_i', '_i1', '_i2', '_i3', '_i4', '_i5', '_ih', '_ii', '_iii', '_oh', 'exit', 'get_ipython', 'os', 'quit', 's', 'sys', 'time']\n"
     ]
    }
   ],
   "source": [
    "import time\n",
    "\n",
    "print(dir())"
   ]
  },
  {
   "cell_type": "markdown",
   "metadata": {},
   "source": [
    "`dir` 是一個內建函式，他能夠列出指定名稱空間中所有的名稱，當我們不提供參數的時候，`dir` 會列出中最上層名稱空間中的名字。"
   ]
  },
  {
   "cell_type": "code",
   "execution_count": 7,
   "metadata": {},
   "outputs": [
    {
     "name": "stdout",
     "output_type": "stream",
     "text": [
      "['__displayhook__', '__doc__', '__excepthook__', '__interactivehook__', '__loader__', '__name__', '__package__', '__spec__', '__stderr__', '__stdin__', '__stdout__', '_clear_type_cache', '_current_frames', '_debugmallocstats', '_enablelegacywindowsfsencoding', '_getframe', '_git', '_home', '_xoptions', 'api_version', 'argv', 'base_exec_prefix', 'base_prefix', 'builtin_module_names', 'byteorder', 'call_tracing', 'callstats', 'copyright', 'displayhook', 'dllhandle', 'dont_write_bytecode', 'exc_info', 'excepthook', 'exec_prefix', 'executable', 'exit', 'flags', 'float_info', 'float_repr_style', 'get_asyncgen_hooks', 'get_coroutine_wrapper', 'getallocatedblocks', 'getcheckinterval', 'getdefaultencoding', 'getfilesystemencodeerrors', 'getfilesystemencoding', 'getprofile', 'getrecursionlimit', 'getrefcount', 'getsizeof', 'getswitchinterval', 'gettrace', 'getwindowsversion', 'hash_info', 'hexversion', 'implementation', 'int_info', 'intern', 'is_finalizing', 'maxsize', 'maxunicode', 'meta_path', 'modules', 'path', 'path_hooks', 'path_importer_cache', 'platform', 'prefix', 'ps1', 'ps2', 'ps3', 'set_asyncgen_hooks', 'set_coroutine_wrapper', 'setcheckinterval', 'setprofile', 'setrecursionlimit', 'setswitchinterval', 'settrace', 'stderr', 'stdin', 'stdout', 'thread_info', 'version', 'version_info', 'warnoptions', 'winver']\n"
     ]
    }
   ],
   "source": [
    "print(dir(sys))"
   ]
  },
  {
   "cell_type": "code",
   "execution_count": 8,
   "metadata": {},
   "outputs": [
    {
     "ename": "NameError",
     "evalue": "name 'argv' is not defined",
     "output_type": "error",
     "traceback": [
      "\u001b[1;31m---------------------------------------------------------------------------\u001b[0m",
      "\u001b[1;31mNameError\u001b[0m                                 Traceback (most recent call last)",
      "\u001b[1;32m<ipython-input-8-c580ad01c2df>\u001b[0m in \u001b[0;36m<module>\u001b[1;34m()\u001b[0m\n\u001b[1;32m----> 1\u001b[1;33m \u001b[0mprint\u001b[0m\u001b[1;33m(\u001b[0m\u001b[0mdir\u001b[0m\u001b[1;33m(\u001b[0m\u001b[0margv\u001b[0m\u001b[1;33m)\u001b[0m\u001b[1;33m)\u001b[0m\u001b[1;33m\u001b[0m\u001b[0m\n\u001b[0m",
      "\u001b[1;31mNameError\u001b[0m: name 'argv' is not defined"
     ]
    }
   ],
   "source": [
    "print(dir(argv))"
   ]
  },
  {
   "cell_type": "code",
   "execution_count": 9,
   "metadata": {},
   "outputs": [
    {
     "name": "stdout",
     "output_type": "stream",
     "text": [
      "['__add__', '__class__', '__contains__', '__delattr__', '__delitem__', '__dir__', '__doc__', '__eq__', '__format__', '__ge__', '__getattribute__', '__getitem__', '__gt__', '__hash__', '__iadd__', '__imul__', '__init__', '__init_subclass__', '__iter__', '__le__', '__len__', '__lt__', '__mul__', '__ne__', '__new__', '__reduce__', '__reduce_ex__', '__repr__', '__reversed__', '__rmul__', '__setattr__', '__setitem__', '__sizeof__', '__str__', '__subclasshook__', 'append', 'clear', 'copy', 'count', 'extend', 'index', 'insert', 'pop', 'remove', 'reverse', 'sort']\n"
     ]
    }
   ],
   "source": [
    "print(dir(sys.argv))"
   ]
  },
  {
   "cell_type": "markdown",
   "metadata": {},
   "source": [
    "當我們匯入模組時，Python 會用 **模組的名稱建立一個名稱空間**，該空間收集了模組中 **函式、類別** 的名字，我們透過 `.` 做階層式的存取，便能取用這些函式和類別為己用了"
   ]
  },
  {
   "cell_type": "markdown",
   "metadata": {},
   "source": [
    "## 匯入到頂層空間\n",
    "\n",
    "| 語法 | 說明 |\n",
    "|---|---|\n",
    "| `from <模組名> import <子模組/類別/函式>` | 從模組中匯入指定的東西到頂層空間 |\n",
    "| `from <模組名> import *` | 透過 `*` 來一次匯入所有名字到頂層空間 |"
   ]
  },
  {
   "cell_type": "code",
   "execution_count": 10,
   "metadata": {},
   "outputs": [
    {
     "name": "stdout",
     "output_type": "stream",
     "text": [
      "['In', 'Out', '_', '_6', '__', '___', '__builtin__', '__builtins__', '__doc__', '__loader__', '__name__', '__package__', '__spec__', '_dh', '_i', '_i1', '_i10', '_i2', '_i3', '_i4', '_i5', '_i6', '_i7', '_i8', '_i9', '_ih', '_ii', '_iii', '_oh', 'argv', 'exit', 'get_ipython', 'os', 'quit', 's', 'sys', 'time']\n"
     ]
    }
   ],
   "source": [
    "from sys import argv\n",
    "\n",
    "print(dir())"
   ]
  },
  {
   "cell_type": "markdown",
   "metadata": {},
   "source": [
    "`from sys import argv` 的手法會避免建立以 `sys` 為名的名稱空間，而直接將 `argv` 加入頂層空間，這樣做的好處是，當我們要存取 `argv` 的時候，不必再透過 `sys`，我們可以直接取用 `argv`"
   ]
  },
  {
   "cell_type": "code",
   "execution_count": 11,
   "metadata": {
    "collapsed": true
   },
   "outputs": [],
   "source": [
    "from sys import *"
   ]
  },
  {
   "cell_type": "markdown",
   "metadata": {},
   "source": [
    "## 不安全的匯入\n",
    "\n",
    "不安全的匯入會造成名稱衝突，我們應當設法避免，讓我們先舉個例子，我們設想有兩個模組 `M1` 和 `M2`，他們擁有一個同名的函式叫作 `func`，當我們這樣匯入:\n",
    "\n",
    "```python\n",
    "from M1 import *\n",
    "from M2 import *\n",
    "```\n",
    "\n",
    "我們會發現名稱衝突的問題\n",
    "\n",
    "\n",
    "#### 問題\n",
    "\n",
    "究竟我們呼叫 `func` 的時候是呼叫哪個模組的呢？\n",
    "\n",
    "\n",
    "#### 名稱空間設計的目的\n",
    "\n",
    "它能透過階層性的存取(加入了一些足以辨別不同的前綴名稱)來避免名稱衝突\n",
    "\n",
    "\n",
    "#### 不太安全的匯入方式\n",
    "\n",
    "```python\n",
    "import os.path as path\n",
    "from os import path\n",
    "from os.path import *\n",
    "```\n",
    "\n",
    "* 上述的匯入方式均會使得 `os`這個前綴消失使得名稱衝突的可能性大增。 \n",
    "* 使用 `from import` 語法幾乎都會遭遇危險性上升的問題，可是在一些較複雜的模組或套件中，我們依然會適度地採用這種匯入以避免過長的階層存取"
   ]
  },
  {
   "cell_type": "markdown",
   "metadata": {},
   "source": [
    "## 套件 (package)\n",
    "\n",
    "* 模組就是一個檔案，而套件就是一個目錄！\n",
    "* 一個擁有著 `__init__.py` 檔案的目錄就會被 Python 視為一個套件\n",
    "* 一個套件裡面收集了若干相關的模組或是套件，簡單來說套件就是個模組庫、函式庫。\n",
    "\n",
    "```\n",
    "my_package/\n",
    "├── __init__.py\n",
    "├── m1.py\n",
    "├── m2.py\n",
    "└── sub_package\n",
    "    ├── __init__.py\n",
    "    ├── m3.py\n",
    "    └── m4.py\n",
    "```\n"
   ]
  },
  {
   "cell_type": "markdown",
   "metadata": {},
   "source": [
    "```python\n",
    "# main.py under my_package\n",
    "\n",
    "import m1\n",
    "import sub_package\n",
    "import sub_package.m3\n",
    "```"
   ]
  },
  {
   "cell_type": "markdown",
   "metadata": {},
   "source": [
    "#### 第一次匯入的時候出現的 .pyc 檔案是做什麼的呢?"
   ]
  },
  {
   "cell_type": "markdown",
   "metadata": {},
   "source": [
    "## 第三方套件與模組\n",
    "\n",
    "### PyPI\n",
    "\n",
    "PyPI 是 Python Package Index 的縮寫，這是 Python 的第三方套件集中地，目前蒐集了超過五萬個的第三方套件，幾乎所有能想像到的功能，都可以在這找到合適的套件。\n",
    "\n",
    "### pip\n",
    "\n",
    "* `pip`，它能夠利用簡單的指令和步驟幫助我們從 PyPI 上下載想要的套件並作妥善的安裝，同時也能很方便地管理他們。\n",
    "* `pip` 是 Python 的套件管理工具，它集合下載、安裝、升級、管理、移除套件等功能，藉由統一的管理，可以使我們事半功倍，更重要的是，也避免了手動執行上述任務會發生的種種錯誤。\n",
    "\n",
    "```sh\n",
    "# 確認版本\n",
    "$ pip -V\n",
    "\n",
    "# 列出安裝的套件\n",
    "$ pip list\n",
    "\n",
    "# 安裝套件\n",
    "$ pip install <套件名稱>\n",
    "\n",
    "# 解除安裝\n",
    "$ pip uninstall <套件名稱>\n",
    "\n",
    "# 尋找套件\n",
    "$ pip search <關鍵字>\n",
    "```\n",
    "\n",
    "### 常用的第三方套件與模組\n",
    "\n",
    "**網站框架**\n",
    "\n",
    "| 套件名稱 | 簡述 |\n",
    "|---|:--|\n",
    "| Django | 完整而強大的Web框架，也就是這本書介紹的內容囉 |\n",
    "| Pyramid | 另一個完整強大的web框架 |\n",
    "| web2py | Google app engine預設使用的框架 |\n",
    "| flask | 相較於前三個是輕量的網站框架 |\n",
    "\n",
    "**圖片處理**\n",
    "\n",
    "| 套件名稱 | 簡述 |\n",
    "|---|:--|\n",
    "| PIL | 可對圖片進行縮放、切割、旋轉等各類操作 |\n",
    "| Pillow | 早先大家使用PIL，但年久失修後，出了一個fork的版本，就是Pillow |\n",
    "\n",
    "**科學計算**\n",
    "\n",
    "| 套件名稱 | 簡述 |\n",
    "|---|:--|\n",
    "| Numpy | 支援非常多的科學計算，包含矩陣運算、線性代數、傅立葉轉換等。可說是集大成者，大多數科學計算套件皆有使用 |\n",
    "| Matplotlib | 可以畫出各種圖型如長條圖、分佈圖、立體圖等 |\n",
    "| pandas | 提供特殊資料結構，具有數據處理和資料分析的功能 |\n",
    "| scikit-learn | 機器學習的套件，包含內建的分群分類計算、回歸、統計等功能 |\n",
    "\n",
    "**命令列操作及遠端登入**\n",
    "\n",
    "| 套件名稱 | 簡述 |\n",
    "|---|:--|\n",
    "| fabric | 可以直接撰寫shell命令，透過fabric執行，也支援遠端登入和自定義shell命令 |\n",
    "| paramiko | 提供遠端登入和部分指令呼叫的功能 |\n",
    "\n",
    "**測試**\n",
    "\n",
    "| 套件名稱 | 簡述 |\n",
    "|---|:--|\n",
    "| django-nose | 更多選擇及設定的Django測試套件，也可產生更詳盡的資訊 |\n",
    "\n",
    "**網路爬蟲**\n",
    "\n",
    "| 套件名稱 | 簡述 |\n",
    "|---|:--|\n",
    "| Scrapy | Python爬蟲框架之一，可以輕易的與Django合作 |\n",
    "\n",
    "**文件剖析器**\n",
    "\n",
    "| 套件名稱 | 簡述 |\n",
    "|---|:--|\n",
    "| beautifulsoup | 可以處理HTML、XML等標記檔案 |\n",
    "| lxml | 可以處理HTML、XML等標記檔，使用xpath選取內容 |\n",
    "\n",
    "**自然語言處理**\n",
    "\n",
    "| 套件名稱 | 簡述 |\n",
    "|---|:--|\n",
    "| nltk | 理論基礎及功能很強大的語言處理套件，但相對低階，需花一些時間熟悉才能流利使用 |\n",
    "| textblob | 較高階的分詞、分句、語言分析工具 |\n",
    "| jieba | 針對中文的分詞、分句、語言分析工具 |\n",
    "\n",
    "**網路請求用戶端**\n",
    "\n",
    "| 套件名稱 | 簡述 |\n",
    "|---|:--|\n",
    "| requests | 可以模擬各種網路請求，如：get、post、put、delete等 |\n",
    "| pycurl | 看名字便知道是在Linux、Unix系統上的命令:curl的python版本 |\n",
    "\n",
    "**背景程序、定時任務**\n",
    "\n",
    "| 套件名稱 | 簡述 |\n",
    "|---|:--|\n",
    "| celery | 可輕易地編寫、呼叫非同步及背景程序，或是執行定時任務(cronjob) |\n",
    "\n",
    "**資料庫介接**\n",
    "\n",
    "| 套件名稱 | 簡述 |\n",
    "|---|:--|\n",
    "| mysql-python | MySQL資料庫介接套件，Django連接MySQL時預設使用的套件 |\n",
    "| psycopg2 | PostgreSQL資料庫介接套件，Django連接PostgreSQL時預設使用的套件 |\n",
    "| pymongo | MongoDB資料庫介接套件 |"
   ]
  }
 ],
 "metadata": {
  "kernelspec": {
   "display_name": "Python 3",
   "language": "python",
   "name": "python3"
  },
  "language_info": {
   "codemirror_mode": {
    "name": "ipython",
    "version": 3
   },
   "file_extension": ".py",
   "mimetype": "text/x-python",
   "name": "python",
   "nbconvert_exporter": "python",
   "pygments_lexer": "ipython3",
   "version": "3.6.1"
  }
 },
 "nbformat": 4,
 "nbformat_minor": 2
}
