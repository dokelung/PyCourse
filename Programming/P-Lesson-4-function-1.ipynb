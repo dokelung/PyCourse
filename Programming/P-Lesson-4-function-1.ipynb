{
 "cells": [
  {
   "cell_type": "markdown",
   "metadata": {},
   "source": [
    "# P-Lesson-4: Function-1\n",
    "\n",
    "## Think\n",
    "\n",
    "* 爲什麼需要函式\n",
    "\n",
    "## Outline\n",
    "\n",
    "* [內建函式](https://docs.python.org/3/library/functions.html)\n",
    "  * 工廠函式\n",
    "  * 全部或任何\n",
    "  * 最大最小與總和\n",
    "  * 產生連續的整數\n",
    "  * 群集的長度\n",
    "* 函式定義\n",
    "  * 使用一個名稱包裹一組運算\n",
    "  * 回傳運算的結果\n",
    "  * 函式的輸入\n",
    "* 函式呼叫\n",
    "  * 位置呼叫\n",
    "  * 關鍵字呼叫\n",
    "* 範圍與作用域\n",
    "  * 全域變數與區域變數"
   ]
  },
  {
   "cell_type": "markdown",
   "metadata": {},
   "source": [
    "## 內建函式 Build-in Function\n",
    "\n",
    "### 工廠函式\n",
    "\n",
    "* 產生資料\n",
    "* 轉型\n",
    "\n",
    "| 內建函式 | 敘述 | 例子 | 結果 |\n",
    "|---|:---|:---|:---|\n",
    "| `int` | 製造整數或將其他型態資料轉為整數 | `int('99')` | `99` |\n",
    "| `float` | 製造浮點數或將其他型態資料轉為浮點數 | `float('1.73')` | `1.73` |\n",
    "| `bool` | 製造布林值或是將其他型態資料轉為布林值 | `bool('')` | `False` |\n",
    "| `str` | 製造字串或是將其他型態資料轉為字串 | `str(20)` | `'20'` |\n",
    "| `list` | 製造清單或是將其他型態資料轉為清單 | `list((1,2,3))` | `[1,2,3]` |\n",
    "| `set` | 製造集合或是將其他型態資料轉為集合 | `list(set([1,1,2,2]))` | `[1,2]` |"
   ]
  },
  {
   "cell_type": "code",
   "execution_count": 1,
   "metadata": {
    "collapsed": true
   },
   "outputs": [],
   "source": [
    "# 產生資料\n",
    "\n",
    "a = 5      # by literal\n",
    "b = int(5) # by factory function\n",
    "c = int(a) # by factory function\n",
    "\n",
    "# 轉型\n",
    "\n",
    "five_str = '5'\n",
    "five = int(five_str)"
   ]
  },
  {
   "cell_type": "markdown",
   "metadata": {},
   "source": [
    "### 全部或任何\n",
    "\n",
    "* `all`: 函式可以接受一個清單作為參數，當全部的元素都為真 (或是在布林語境為真)，則他的回傳值為真，否則為假\n",
    "* `any`: 剛好相反，只要有一個人為真，回傳值就是真了"
   ]
  },
  {
   "cell_type": "code",
   "execution_count": 5,
   "metadata": {
    "collapsed": false
   },
   "outputs": [],
   "source": [
    "pass_lst = [True, True, True, False, False]"
   ]
  },
  {
   "cell_type": "code",
   "execution_count": 6,
   "metadata": {
    "collapsed": false
   },
   "outputs": [
    {
     "name": "stdout",
     "output_type": "stream",
     "text": [
      "有人不及格\n"
     ]
    }
   ],
   "source": [
    "# version 1\n",
    "all_pass = True\n",
    "\n",
    "for p in pass_lst:\n",
    "    if p==False:\n",
    "        all_pass = False\n",
    "        \n",
    "if all_pass:\n",
    "    print('都及格了，歐啪')\n",
    "else:\n",
    "    print('有人不及格')"
   ]
  },
  {
   "cell_type": "code",
   "execution_count": 7,
   "metadata": {
    "collapsed": false
   },
   "outputs": [
    {
     "name": "stdout",
     "output_type": "stream",
     "text": [
      "有人不及格\n"
     ]
    }
   ],
   "source": [
    "# version 2\n",
    "if all(pass_lst):\n",
    "    print('都及格了，歐啪')\n",
    "else:\n",
    "    print('有人不及格')"
   ]
  },
  {
   "cell_type": "markdown",
   "metadata": {},
   "source": [
    "### 最大最小與總和\n",
    "\n",
    "* `max`\n",
    "* `min`\n",
    "* `sum`"
   ]
  },
  {
   "cell_type": "code",
   "execution_count": 16,
   "metadata": {
    "collapsed": false
   },
   "outputs": [
    {
     "name": "stdout",
     "output_type": "stream",
     "text": [
      "5\n",
      "1\n",
      "15\n"
     ]
    }
   ],
   "source": [
    "lst = [1, 2, 3, 4, 5]\n",
    "print(max(lst))\n",
    "print(min(lst))\n",
    "print(sum(lst))"
   ]
  },
  {
   "cell_type": "markdown",
   "metadata": {},
   "source": [
    "### 產生連續的整數\n",
    "\n",
    "* `range`: 能幫我們產生連續的整數，通常會搭配 `for` 迴圈來使用"
   ]
  },
  {
   "cell_type": "code",
   "execution_count": 14,
   "metadata": {
    "collapsed": false
   },
   "outputs": [
    {
     "name": "stdout",
     "output_type": "stream",
     "text": [
      "0 1 2 3 4 5 6 7 8 9 \n",
      "===\n",
      "2 3 4 5 6 "
     ]
    }
   ],
   "source": [
    "for num in range(10):\n",
    "    print(num, end=' ')\n",
    "    \n",
    "print('\\n===')\n",
    "    \n",
    "for num in range(2,7):\n",
    "    print(num, end=' ')"
   ]
  },
  {
   "cell_type": "markdown",
   "metadata": {},
   "source": [
    "#### 大部分的程式語言喜歡從 0 開始數\n",
    "\n",
    "### 群集的長度\n",
    "\n",
    "* `len`: 此函數可以幫助我們求得一個群集的元素個數"
   ]
  },
  {
   "cell_type": "code",
   "execution_count": 15,
   "metadata": {
    "collapsed": false
   },
   "outputs": [
    {
     "name": "stdout",
     "output_type": "stream",
     "text": [
      "5\n",
      "3\n"
     ]
    }
   ],
   "source": [
    "# 使用 len 查詢清單的長度 和 字典的鍵值對個數\n",
    "lst = [1,2,3,4,5]\n",
    "print(len(lst))\n",
    "dic = {1:1,2:2,3:4}\n",
    "print(len(dic))"
   ]
  },
  {
   "cell_type": "markdown",
   "metadata": {},
   "source": [
    "## 函式定義\n",
    "\n",
    "### 使用一個名稱包裹一組運算\n",
    "\n",
    "* `def` 是定義函式的關鍵字"
   ]
  },
  {
   "cell_type": "code",
   "execution_count": 20,
   "metadata": {
    "collapsed": false
   },
   "outputs": [
    {
     "name": "stdout",
     "output_type": "stream",
     "text": [
      "hello\n",
      "hello\n",
      "hello\n"
     ]
    }
   ],
   "source": [
    "def say_hello_3_times():\n",
    "    print('hello')\n",
    "    print('hello')\n",
    "    print('hello')\n",
    "    \n",
    "say_hello_3_times()"
   ]
  },
  {
   "cell_type": "code",
   "execution_count": 21,
   "metadata": {
    "collapsed": false
   },
   "outputs": [
    {
     "name": "stdout",
     "output_type": "stream",
     "text": [
      "3.0\n"
     ]
    }
   ],
   "source": [
    "def average():\n",
    "    lst = [1, 2, 3, 4, 5]\n",
    "    avg = sum(lst)/len(lst)\n",
    "    print(avg)\n",
    "    \n",
    "average()"
   ]
  },
  {
   "cell_type": "markdown",
   "metadata": {},
   "source": [
    "### 回傳運算的結果\n",
    "\n",
    "* 使用 `return` 來回傳結果\n",
    "* 用回傳值取代呼叫"
   ]
  },
  {
   "cell_type": "code",
   "execution_count": 29,
   "metadata": {
    "collapsed": false
   },
   "outputs": [
    {
     "name": "stdout",
     "output_type": "stream",
     "text": [
      "3.0\n",
      "Average is 3.0\n",
      "3.0\n",
      "total is 15\n"
     ]
    }
   ],
   "source": [
    "def average():\n",
    "    lst = [1, 2, 3, 4, 5]\n",
    "    avg = sum(lst)/len(lst)\n",
    "    print(avg)\n",
    "    return avg\n",
    "    \n",
    "print('Average is', average())\n",
    "print('total is', int(average()*5))"
   ]
  },
  {
   "cell_type": "markdown",
   "metadata": {},
   "source": [
    "### 函式的輸入\n",
    "\n",
    "* 參考 global variable\n",
    "  * side effect\n",
    "* 傳入參數"
   ]
  },
  {
   "cell_type": "code",
   "execution_count": 30,
   "metadata": {
    "collapsed": false
   },
   "outputs": [
    {
     "name": "stdout",
     "output_type": "stream",
     "text": [
      "3.2\n",
      "3.2\n"
     ]
    }
   ],
   "source": [
    "lst = [2, 2, 3, 4, 5]\n",
    "\n",
    "def average():\n",
    "    avg = sum(lst)/len(lst)\n",
    "    print(avg)\n",
    "    return avg\n",
    "\n",
    "print(average())"
   ]
  },
  {
   "cell_type": "markdown",
   "metadata": {},
   "source": [
    "#### 此處有兩個地方會造成 side effect，你找得出來嗎？"
   ]
  },
  {
   "cell_type": "code",
   "execution_count": 32,
   "metadata": {
    "collapsed": false
   },
   "outputs": [
    {
     "name": "stdout",
     "output_type": "stream",
     "text": [
      "3.2\n"
     ]
    }
   ],
   "source": [
    "def average(lst):\n",
    "    avg = sum(lst)/len(lst)\n",
    "    return avg\n",
    "\n",
    "lst = [2, 2, 3, 4, 5]\n",
    "print(average(lst))"
   ]
  },
  {
   "cell_type": "code",
   "execution_count": 33,
   "metadata": {
    "collapsed": false
   },
   "outputs": [
    {
     "name": "stdout",
     "output_type": "stream",
     "text": [
      "hello\n",
      "hello\n",
      "hello\n",
      "hello\n",
      "hello\n"
     ]
    }
   ],
   "source": [
    "def say_hello(ntimes):\n",
    "    for i in range(ntimes):\n",
    "        print('hello')\n",
    "        \n",
    "say_hello(5)"
   ]
  },
  {
   "cell_type": "code",
   "execution_count": 34,
   "metadata": {
    "collapsed": false
   },
   "outputs": [
    {
     "name": "stdout",
     "output_type": "stream",
     "text": [
      "3\n"
     ]
    }
   ],
   "source": [
    "# more than one argument\n",
    "def add(a, b):\n",
    "    return a+b\n",
    "\n",
    "print(add(1, 2))"
   ]
  },
  {
   "cell_type": "markdown",
   "metadata": {},
   "source": [
    "## 函式呼叫\n",
    "\n",
    "* 位置呼叫\n",
    "* 關鍵字呼叫"
   ]
  },
  {
   "cell_type": "code",
   "execution_count": 39,
   "metadata": {
    "collapsed": true
   },
   "outputs": [],
   "source": [
    "def add(a, b, c, d):\n",
    "    return a+b+c+d\n",
    "\n",
    "def power(base, exp):\n",
    "    return base**exp"
   ]
  },
  {
   "cell_type": "code",
   "execution_count": 36,
   "metadata": {
    "collapsed": false
   },
   "outputs": [
    {
     "data": {
      "text/plain": [
       "3"
      ]
     },
     "execution_count": 36,
     "metadata": {},
     "output_type": "execute_result"
    }
   ],
   "source": [
    "add(1, 2, 3, 4)"
   ]
  },
  {
   "cell_type": "code",
   "execution_count": 37,
   "metadata": {
    "collapsed": false
   },
   "outputs": [
    {
     "data": {
      "text/plain": [
       "8"
      ]
     },
     "execution_count": 37,
     "metadata": {},
     "output_type": "execute_result"
    }
   ],
   "source": [
    "power(2, 3)"
   ]
  },
  {
   "cell_type": "code",
   "execution_count": 40,
   "metadata": {
    "collapsed": false
   },
   "outputs": [
    {
     "data": {
      "text/plain": [
       "10"
      ]
     },
     "execution_count": 40,
     "metadata": {},
     "output_type": "execute_result"
    }
   ],
   "source": [
    "add(1, 2, d=4, c=3)"
   ]
  },
  {
   "cell_type": "code",
   "execution_count": 41,
   "metadata": {
    "collapsed": false
   },
   "outputs": [
    {
     "data": {
      "text/plain": [
       "8"
      ]
     },
     "execution_count": 41,
     "metadata": {},
     "output_type": "execute_result"
    }
   ],
   "source": [
    "power(exp=3, base=2)"
   ]
  },
  {
   "cell_type": "code",
   "execution_count": 42,
   "metadata": {
    "collapsed": false
   },
   "outputs": [
    {
     "ename": "SyntaxError",
     "evalue": "positional argument follows keyword argument (<ipython-input-42-e2be89572aea>, line 1)",
     "output_type": "error",
     "traceback": [
      "\u001b[0;36m  File \u001b[0;32m\"<ipython-input-42-e2be89572aea>\"\u001b[0;36m, line \u001b[0;32m1\u001b[0m\n\u001b[0;31m    add(b=2, a=1, 3, 4) # not allowed\u001b[0m\n\u001b[0m                 ^\u001b[0m\n\u001b[0;31mSyntaxError\u001b[0m\u001b[0;31m:\u001b[0m positional argument follows keyword argument\n"
     ]
    }
   ],
   "source": [
    "add(b=2, a=1, 3, 4) # not allowed"
   ]
  },
  {
   "cell_type": "markdown",
   "metadata": {},
   "source": [
    "## 範圍與作用域\n",
    "\n",
    "* 變數的有效範圍: 變數被認定(認識)的範圍\n",
    "\n",
    "### 全域變數與區域變數\n",
    "\n",
    "* 定義在函式外的變數其範圍是一整個 Python 檔案，又稱 **全域變數**(全域指的是整個 Python 檔)\n",
    "* 定義在一個函式中的變數稱為區域變數，其範圍是一整個函式\n",
    "\n",
    "而以上兩種範圍都必須從變數定義被 Python 看到開始算起，若是區域變數與全域變數名稱相同產生衝突時，區域內以區域變數為主，區域外以全域變數為主。\n",
    "\n",
    "我們發現 `var1` 雖然在函式外有定義過，但是在函式中，由於我們也定義了一個區域函數，所以在印出 `var1` 的時候，Python 會優先選擇在函式中的定義，反觀 `var2`，由於區域內沒有定義所以會去選擇函式外的全域變數。\n",
    "\n",
    "至於在函式外的 `print`，當然都會選擇全域變數來印出，許多初學者會認為 `var1` 的值已經被改變了，應該會印出 1，其實不是，因為這兩個變數是完全不同的兩個變數。"
   ]
  },
  {
   "cell_type": "code",
   "execution_count": 43,
   "metadata": {
    "collapsed": false
   },
   "outputs": [
    {
     "name": "stdout",
     "output_type": "stream",
     "text": [
      "1 0\n",
      "0 0\n"
     ]
    }
   ],
   "source": [
    "def test_scope():\n",
    "    var1 = 1\n",
    "    print(var1, var2)\n",
    "\n",
    "var1 = 0\n",
    "var2 = 0\n",
    "\n",
    "test_scope()\n",
    "print(var1, var2)"
   ]
  },
  {
   "cell_type": "code",
   "execution_count": null,
   "metadata": {
    "collapsed": true
   },
   "outputs": [],
   "source": []
  }
 ],
 "metadata": {
  "kernelspec": {
   "display_name": "Python 3",
   "language": "python",
   "name": "python3"
  },
  "language_info": {
   "codemirror_mode": {
    "name": "ipython",
    "version": 3
   },
   "file_extension": ".py",
   "mimetype": "text/x-python",
   "name": "python",
   "nbconvert_exporter": "python",
   "pygments_lexer": "ipython3",
   "version": "3.5.1"
  }
 },
 "nbformat": 4,
 "nbformat_minor": 1
}
