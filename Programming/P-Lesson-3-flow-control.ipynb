{
 "cells": [
  {
   "cell_type": "markdown",
   "metadata": {},
   "source": [
    "# P-Lesson-3: Flow Control\n",
    "\n",
    "## Think\n",
    "\n",
    "* 為什麼需要控制流程?\n",
    "* 需要那些控制流程的方法?\n",
    "\n",
    "## Outline\n",
    "\n",
    "* 選擇\n",
    "* 重複\n",
    "* 其他"
   ]
  },
  {
   "cell_type": "markdown",
   "metadata": {},
   "source": [
    "## 選擇\n",
    "\n",
    "### 要做或不要做\n",
    "\n",
    "* `if`: 根據條件選擇要不要做\n",
    " * 條件: if condition \n",
    " * 條件成立時要做的事: if suite(block)"
   ]
  },
  {
   "cell_type": "code",
   "execution_count": 3,
   "metadata": {},
   "outputs": [
    {
     "name": "stdout",
     "output_type": "stream",
     "text": [
      "現在是春季\n",
      "一年之計在於春\n",
      "這裡不屬於if區塊\n"
     ]
    }
   ],
   "source": [
    "month = 4\n",
    "\n",
    "if 3 <= month <= 5:\n",
    "    print('現在是春季')\n",
    "    print('一年之計在於春')\n",
    "    \n",
    "print('這裡不屬於if區塊')"
   ]
  },
  {
   "cell_type": "markdown",
   "metadata": {},
   "source": [
    "* 上面的例子中，`3 <= month <= 5` 是條件，條件會處於**布林語境**中\n",
    "* `print('現在是春季')` 是條件成立時要做的事情\n",
    "* 切進 suite 的時候要 `冒號` -> `換行` -> `縮排`\n",
    "\n",
    "### 關於縮排\n",
    "\n",
    "要取用怎麼樣的縮排是大家的自由，但是 Python 界中有個不成文的規定，那就是統一用 4 個空格來縮排，如果嫌麻煩，可以在自己喜歡的編輯器裡將 tab 以 4 個空格取代\n",
    "\n",
    "### 做此或做彼\n",
    "\n",
    "* `if`/`else`: 根據條件選擇做此或做彼"
   ]
  },
  {
   "cell_type": "code",
   "execution_count": 4,
   "metadata": {},
   "outputs": [
    {
     "name": "stdout",
     "output_type": "stream",
     "text": [
      "現在不是春季\n"
     ]
    }
   ],
   "source": [
    "month = 6\n",
    "\n",
    "if 3 <= month <= 5:\n",
    "    print('現在是春季')\n",
    "else:\n",
    "    print('現在不是春季')"
   ]
  },
  {
   "cell_type": "markdown",
   "metadata": {},
   "source": [
    "### 更多的選擇\n",
    "\n",
    "* `if`/`elif`/`else`: 根據條件選擇做不同的事情"
   ]
  },
  {
   "cell_type": "code",
   "execution_count": 5,
   "metadata": {},
   "outputs": [
    {
     "name": "stdout",
     "output_type": "stream",
     "text": [
      "現在是秋季\n"
     ]
    }
   ],
   "source": [
    "month = 10\n",
    "\n",
    "if 3 <= month <= 5:\n",
    "    print('現在是春季')\n",
    "elif 6 <= month <= 8:\n",
    "    print('現在是夏季')\n",
    "elif 9 <= month <= 11:\n",
    "    print('現在是秋季')\n",
    "else:\n",
    "    print('現在是冬季')"
   ]
  },
  {
   "cell_type": "markdown",
   "metadata": {},
   "source": [
    "#### `if`/`elif` 的順序有影響嗎?\n",
    "\n",
    "## 重複\n",
    "\n",
    "### 條件成立時重複做\n",
    "\n",
    "* `while` 在條件成立的狀況下，重複執行，直到條件不成立或被人中斷\n",
    " * 條件: while condition\n",
    " * 重複做的事情: while suite(block)"
   ]
  },
  {
   "cell_type": "code",
   "execution_count": 7,
   "metadata": {},
   "outputs": [
    {
     "name": "stdout",
     "output_type": "stream",
     "text": [
      "120\n"
     ]
    }
   ],
   "source": [
    "factorial = 1\n",
    "factorial *= 2 # factorial = factorial * 2\n",
    "factorial *= 3\n",
    "factorial *= 4\n",
    "factorial *= 5\n",
    "print(factorial)"
   ]
  },
  {
   "cell_type": "markdown",
   "metadata": {},
   "source": [
    "#### 若要算到 100 階乘豈非算至天荒地老? 讓我們改用 `while`"
   ]
  },
  {
   "cell_type": "code",
   "execution_count": 9,
   "metadata": {},
   "outputs": [
    {
     "name": "stdout",
     "output_type": "stream",
     "text": [
      "120\n"
     ]
    }
   ],
   "source": [
    "num = 1\n",
    "factorial = 1\n",
    "\n",
    "while num <= 5:\n",
    "    factorial *= num\n",
    "    num += 1\n",
    "\n",
    "print(factorial)"
   ]
  },
  {
   "cell_type": "markdown",
   "metadata": {},
   "source": [
    "* 迴圈\n",
    "* 條件變數/迴圈變數\n",
    " * 用來控制條件成立與否的變數，因為有他才讓迴圈從能被執行到停止執行\n",
    " * 通常我們在條件中拿他來做判斷\n",
    " * 通常我們在 suite 中會利用他的值\n",
    " * 通常我們在 suite 中會變更他的值"
   ]
  },
  {
   "cell_type": "code",
   "execution_count": 11,
   "metadata": {},
   "outputs": [
    {
     "name": "stdout",
     "output_type": "stream",
     "text": [
      "hello\n",
      "hello\n",
      "hello\n",
      "hello\n",
      "hello\n",
      "hello\n",
      "hello\n",
      "hello\n",
      "hello\n",
      "hello\n"
     ]
    }
   ],
   "source": [
    "# 這是一個更單純的例子，迴圈變數只用來控制變數\n",
    "\n",
    "i = 0\n",
    "\n",
    "while i < 10:\n",
    "    print('hello')\n",
    "    i += 1"
   ]
  },
  {
   "cell_type": "markdown",
   "metadata": {},
   "source": [
    "### 透過走訪重複做\n",
    "\n",
    "* `for A in B`: 依次走訪 B 中的元素，並且對於每一個元素 A 都執行一次 suite\n",
    " * 可迭代物 (iterable)\n",
    " * 重複做的事情: for suite(block)"
   ]
  },
  {
   "cell_type": "code",
   "execution_count": 15,
   "metadata": {},
   "outputs": [
    {
     "name": "stdout",
     "output_type": "stream",
     "text": [
      "120\n"
     ]
    }
   ],
   "source": [
    "factorial = 1\n",
    "\n",
    "for num in range(1, 6): # range(1, 6) is an iterable\n",
    "    factorial *= num\n",
    "    \n",
    "print(factorial)"
   ]
  },
  {
   "cell_type": "code",
   "execution_count": 14,
   "metadata": {},
   "outputs": [
    {
     "name": "stdout",
     "output_type": "stream",
     "text": [
      "hello\n",
      "hello\n",
      "hello\n",
      "hello\n",
      "hello\n",
      "hello\n",
      "hello\n",
      "hello\n",
      "hello\n",
      "hello\n"
     ]
    }
   ],
   "source": [
    "for i in range(10):\n",
    "    print('hello')"
   ]
  },
  {
   "cell_type": "markdown",
   "metadata": {},
   "source": [
    "#### `for` 迴圈要執行幾次並不是靠著條件的判斷來達成，而是靠著迭代的次數\n",
    "\n",
    "#### 到底什麼是迭代\n",
    "\n",
    "維基百科中迭代 (也稱疊代) 的定義是: 疊代是重複反饋過程的活動，其目的通常是為了接近並到達所需的目標或結果。每一次對過程的重複被稱為一次「疊代」，而每一次疊代得到的結果會被用來作為下一次疊代的初始值。\n",
    "\n",
    "`for` 迴圈可以對所有可迭代的對象進行迭代，包含清單、元組、字典甚至字串，迭代字典我們會依照任意的順序取出字典的鍵，迭代字串我們會依序取出字串中的字元。"
   ]
  },
  {
   "cell_type": "code",
   "execution_count": 16,
   "metadata": {},
   "outputs": [
    {
     "name": "stdout",
     "output_type": "stream",
     "text": [
      "dokelung\n",
      "Jessy\n",
      "Yolanda\n",
      "Sharon\n"
     ]
    }
   ],
   "source": [
    "for name in ['dokelung', 'Jessy', 'Yolanda', 'Sharon']:\n",
    "    print(name)"
   ]
  },
  {
   "cell_type": "code",
   "execution_count": 19,
   "metadata": {},
   "outputs": [
    {
     "name": "stdout",
     "output_type": "stream",
     "text": [
      "name dokelung\n",
      "gender male\n",
      "age 29\n"
     ]
    }
   ],
   "source": [
    "personal_data = {'name': 'dokelung', 'gender':'male', 'age':29}\n",
    "\n",
    "for key in personal_data:\n",
    "    print(key, personal_data[key])"
   ]
  },
  {
   "cell_type": "code",
   "execution_count": 20,
   "metadata": {},
   "outputs": [
    {
     "name": "stdout",
     "output_type": "stream",
     "text": [
      "a\n",
      "b\n",
      "c\n",
      "d\n",
      "e\n",
      "f\n",
      "g\n"
     ]
    }
   ],
   "source": [
    "for char in 'abcdefg':\n",
    "    print(char)"
   ]
  },
  {
   "cell_type": "code",
   "execution_count": null,
   "metadata": {},
   "outputs": [],
   "source": []
  }
 ],
 "metadata": {
  "kernelspec": {
   "display_name": "Python 3",
   "language": "python",
   "name": "python3"
  },
  "language_info": {
   "codemirror_mode": {
    "name": "ipython",
    "version": 3
   },
   "file_extension": ".py",
   "mimetype": "text/x-python",
   "name": "python",
   "nbconvert_exporter": "python",
   "pygments_lexer": "ipython3",
   "version": "3.6.3"
  }
 },
 "nbformat": 4,
 "nbformat_minor": 2
}
