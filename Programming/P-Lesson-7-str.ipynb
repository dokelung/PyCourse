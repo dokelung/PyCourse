{
 "cells": [
  {
   "cell_type": "markdown",
   "metadata": {},
   "source": [
    "# P-Lesson-7: String\n",
    "\n",
    "## Outline\n",
    "\n",
    "* String\n",
    " * 使用引號\n",
    " * 跳脫字元\n",
    " * 多行字串\n",
    " * 文件字串\n",
    " * 長度與子字串存取\n",
    " * 存在關係\n",
    " * 複製與倒序\n",
    " * 迭代\n",
    " * 串接\n",
    " * 重複\n",
    " * 表意判斷\n",
    " * 切割\n",
    " * 取代\n",
    " * 清理\n",
    " * 大小寫轉換\n",
    " * 尋找\n",
    " * 格式化"
   ]
  },
  {
   "cell_type": "markdown",
   "metadata": {},
   "source": [
    "## String\n",
    "\n",
    "* 我們稱任何一個符號叫做 **字元**，而字元的序列就叫 **字串**，不過在 Python 中沒有真正的字元\n",
    "* 字串的字面是由成對的 **單引號** 或 **雙引號** 夾住若干任意字元所組成"
   ]
  },
  {
   "cell_type": "code",
   "execution_count": 1,
   "metadata": {
    "collapsed": true
   },
   "outputs": [],
   "source": [
    "s = ''            # empty string\n",
    "s = 'a'           # single char string\n",
    "s = 'hello'       # one word string\n",
    "s = 'hello world' # multi-word string"
   ]
  },
  {
   "cell_type": "markdown",
   "metadata": {},
   "source": [
    "### 使用引號"
   ]
  },
  {
   "cell_type": "code",
   "execution_count": 2,
   "metadata": {
    "collapsed": true
   },
   "outputs": [],
   "source": [
    "s = \"It's a good day!\"\n",
    "s = 'My name is \"dokelung\"'"
   ]
  },
  {
   "cell_type": "markdown",
   "metadata": {},
   "source": [
    "### 跳脫字元\n",
    "\n",
    "* 以反斜線開頭用以表達特殊字元的字元\n",
    "\n",
    "|跳脫字元 | 說明 |\n",
    "|---|:---|\n",
    "| \\\\ | 倒斜線 |\n",
    "| \\' | 單引號 |\n",
    "| \\\" | 雙引號 |\n",
    "| \\a | 鈴響 |\n",
    "| \\b | 退格 |\n",
    "| \\n | 換行 |\n",
    "| \\t | 縮排 |"
   ]
  },
  {
   "cell_type": "code",
   "execution_count": 11,
   "metadata": {},
   "outputs": [
    {
     "name": "stdout",
     "output_type": "stream",
     "text": [
      "\\\n",
      "\"\n",
      "'\n",
      "\n",
      "\n",
      "\t 123\n"
     ]
    }
   ],
   "source": [
    "print('\\\\')\n",
    "print('\"')\n",
    "print('\\'')\n",
    "print('\\n')\n",
    "print('\\t', 123)"
   ]
  },
  {
   "cell_type": "markdown",
   "metadata": {},
   "source": [
    "### 多行字串"
   ]
  },
  {
   "cell_type": "code",
   "execution_count": 16,
   "metadata": {},
   "outputs": [
    {
     "name": "stdout",
     "output_type": "stream",
     "text": [
      "This is not the best way to join two long strings together since it relies on ugly newline escaping\n",
      "This is the nice way to join two long stringstogether; it relies on string literal concatenation.\n"
     ]
    }
   ],
   "source": [
    "t = 'This is not the best way to join two long strings ' + \\\n",
    "    'together since it relies on ugly newline escaping'\n",
    "    \n",
    "s = (\"This is the nice way to join two long strings\"\n",
    "     \"together; it relies on string literal concatenation.\")\n",
    "\n",
    "print(t)\n",
    "print(s)"
   ]
  },
  {
   "cell_type": "markdown",
   "metadata": {},
   "source": [
    "### 文件字串"
   ]
  },
  {
   "cell_type": "code",
   "execution_count": 19,
   "metadata": {},
   "outputs": [
    {
     "name": "stdout",
     "output_type": "stream",
     "text": [
      "\n",
      "first line\n",
      "    second line\n",
      "third line\n",
      "\n"
     ]
    }
   ],
   "source": [
    "ds = \"\"\"\n",
    "first line\n",
    "    second line\n",
    "third line\n",
    "\"\"\"\n",
    "\n",
    "print(ds)"
   ]
  },
  {
   "cell_type": "code",
   "execution_count": 23,
   "metadata": {},
   "outputs": [
    {
     "name": "stdout",
     "output_type": "stream",
     "text": [
      "simple function to add 2 numbers\n"
     ]
    }
   ],
   "source": [
    "def add(a, b):\n",
    "    \"\"\"simple function to add 2 numbers\"\"\"\n",
    "    return a+b\n",
    "\n",
    "print(add.__doc__)"
   ]
  },
  {
   "cell_type": "code",
   "execution_count": 24,
   "metadata": {},
   "outputs": [
    {
     "name": "stdout",
     "output_type": "stream",
     "text": [
      "Help on function add in module __main__:\n",
      "\n",
      "add(a, b)\n",
      "    simple function to add 2 numbers\n",
      "\n"
     ]
    }
   ],
   "source": [
    "help(add)"
   ]
  },
  {
   "cell_type": "markdown",
   "metadata": {},
   "source": [
    "### 長度與子字串存取"
   ]
  },
  {
   "cell_type": "code",
   "execution_count": 25,
   "metadata": {
    "collapsed": true
   },
   "outputs": [],
   "source": [
    "s = 'light way'"
   ]
  },
  {
   "cell_type": "code",
   "execution_count": 26,
   "metadata": {},
   "outputs": [
    {
     "name": "stdout",
     "output_type": "stream",
     "text": [
      "9\n"
     ]
    }
   ],
   "source": [
    "# length\n",
    "print(len(s))"
   ]
  },
  {
   "cell_type": "code",
   "execution_count": 27,
   "metadata": {},
   "outputs": [
    {
     "name": "stdout",
     "output_type": "stream",
     "text": [
      "l\n",
      "y\n"
     ]
    }
   ],
   "source": [
    "# get char\n",
    "print(s[0])\n",
    "print(s[-1])"
   ]
  },
  {
   "cell_type": "code",
   "execution_count": 31,
   "metadata": {},
   "outputs": [
    {
     "name": "stdout",
     "output_type": "stream",
     "text": [
      "light\n",
      "way\n"
     ]
    }
   ],
   "source": [
    "# get sub string\n",
    "print(s[:5])\n",
    "print(s[6:])"
   ]
  },
  {
   "cell_type": "markdown",
   "metadata": {},
   "source": [
    "#### 字串一但產生之後便無法更改其內容"
   ]
  },
  {
   "cell_type": "code",
   "execution_count": 32,
   "metadata": {},
   "outputs": [
    {
     "ename": "TypeError",
     "evalue": "'str' object does not support item assignment",
     "output_type": "error",
     "traceback": [
      "\u001b[1;31m---------------------------------------------------------------------------\u001b[0m",
      "\u001b[1;31mTypeError\u001b[0m                                 Traceback (most recent call last)",
      "\u001b[1;32m<ipython-input-32-f49db6a41d1f>\u001b[0m in \u001b[0;36m<module>\u001b[1;34m()\u001b[0m\n\u001b[1;32m----> 1\u001b[1;33m \u001b[0ms\u001b[0m\u001b[1;33m[\u001b[0m\u001b[1;36m0\u001b[0m\u001b[1;33m]\u001b[0m \u001b[1;33m=\u001b[0m \u001b[1;34m'r'\u001b[0m\u001b[1;33m\u001b[0m\u001b[0m\n\u001b[0m",
      "\u001b[1;31mTypeError\u001b[0m: 'str' object does not support item assignment"
     ]
    }
   ],
   "source": [
    "s[0] = 'r'"
   ]
  },
  {
   "cell_type": "markdown",
   "metadata": {},
   "source": [
    "### 存在關係"
   ]
  },
  {
   "cell_type": "code",
   "execution_count": 36,
   "metadata": {},
   "outputs": [
    {
     "name": "stdout",
     "output_type": "stream",
     "text": [
      "True\n",
      "False\n"
     ]
    }
   ],
   "source": [
    "print('light' in s)\n",
    "print('wayt' in s)"
   ]
  },
  {
   "cell_type": "code",
   "execution_count": 30,
   "metadata": {},
   "outputs": [
    {
     "name": "stdout",
     "output_type": "stream",
     "text": [
      "True\n",
      "False\n"
     ]
    }
   ],
   "source": [
    "print('abc123'.startswith('abc1'))\n",
    "print('abc123'.endswith('234'))"
   ]
  },
  {
   "cell_type": "markdown",
   "metadata": {},
   "source": [
    "### 複製與倒序"
   ]
  },
  {
   "cell_type": "code",
   "execution_count": 35,
   "metadata": {},
   "outputs": [
    {
     "name": "stdout",
     "output_type": "stream",
     "text": [
      "light way\n",
      "True\n",
      "True\n",
      "yaw thgil\n"
     ]
    }
   ],
   "source": [
    "# copy\n",
    "s2 = s[:]\n",
    "s3 = s[::-1]\n",
    "print(s2)\n",
    "print(s==s2)\n",
    "print(s is s2)\n",
    "print(s3)"
   ]
  },
  {
   "cell_type": "markdown",
   "metadata": {},
   "source": [
    "#### 字串不能複製，為什麼?"
   ]
  },
  {
   "cell_type": "markdown",
   "metadata": {},
   "source": [
    "### 迭代"
   ]
  },
  {
   "cell_type": "code",
   "execution_count": 37,
   "metadata": {},
   "outputs": [
    {
     "name": "stdout",
     "output_type": "stream",
     "text": [
      "l\n",
      "i\n",
      "g\n",
      "h\n",
      "t\n",
      " \n",
      "w\n",
      "a\n",
      "y\n"
     ]
    }
   ],
   "source": [
    "# iter\n",
    "for c in s:\n",
    "    print(c)"
   ]
  },
  {
   "cell_type": "markdown",
   "metadata": {},
   "source": [
    "### 串接"
   ]
  },
  {
   "cell_type": "code",
   "execution_count": 42,
   "metadata": {},
   "outputs": [
    {
     "name": "stdout",
     "output_type": "stream",
     "text": [
      "hello world\n"
     ]
    }
   ],
   "source": [
    "# use \"+\"\n",
    "s1 = 'hello'\n",
    "s2 = 'world'\n",
    "s3 = s1 + ' ' + s2\n",
    "print(s3)"
   ]
  },
  {
   "cell_type": "code",
   "execution_count": 44,
   "metadata": {},
   "outputs": [
    {
     "name": "stdout",
     "output_type": "stream",
     "text": [
      "hello my world\n"
     ]
    }
   ],
   "source": [
    "# insert word\n",
    "print(s3[:5]+' my'+s3[5:])"
   ]
  },
  {
   "cell_type": "code",
   "execution_count": 47,
   "metadata": {},
   "outputs": [
    {
     "name": "stdout",
     "output_type": "stream",
     "text": [
      "hello world\n",
      "hello, world\n",
      "\n"
     ]
    }
   ],
   "source": [
    "# use join\n",
    "print(' '.join([s1, s2]))\n",
    "print(', '.join([s1, s2]))"
   ]
  },
  {
   "cell_type": "markdown",
   "metadata": {},
   "source": [
    "### 練習: 將列表中的字串串接起來\n",
    "\n",
    "試試看將 `lst` 轉為 `s`\n",
    "\n",
    "```\n",
    "lst = ['a', 'b', 'c', 'd', 'e']\n",
    "s = 'a, b, c, d, e'\n",
    "```\n",
    "\n",
    "你能夠在使用和不使用 `join` 的情況下做到嗎?"
   ]
  },
  {
   "cell_type": "markdown",
   "metadata": {},
   "source": [
    "### 重複"
   ]
  },
  {
   "cell_type": "code",
   "execution_count": 50,
   "metadata": {},
   "outputs": [
    {
     "name": "stdout",
     "output_type": "stream",
     "text": [
      "abcabcabc\n"
     ]
    }
   ],
   "source": [
    "s = 'abc'\n",
    "print(s*3)"
   ]
  },
  {
   "cell_type": "markdown",
   "metadata": {},
   "source": [
    "#### 你能夠不使用 * 來進行重複嗎? 怎麼做?\n",
    "\n",
    "### 表意判斷"
   ]
  },
  {
   "cell_type": "code",
   "execution_count": 28,
   "metadata": {},
   "outputs": [
    {
     "name": "stdout",
     "output_type": "stream",
     "text": [
      "True\n",
      "False\n",
      "True\n",
      "False\n",
      "True\n",
      "False\n",
      "True\n",
      "False\n",
      "True\n",
      "False\n",
      "True\n",
      "False\n",
      "True\n",
      "False\n",
      "True\n",
      "False\n",
      "True\n",
      "False\n",
      "True\n",
      "False\n",
      "True\n",
      "False\n"
     ]
    }
   ],
   "source": [
    "# 字母及數字組成的非空字串\n",
    "print('ilove5566'.isalnum())\n",
    "print('~~ilove5566~~'.isalnum())\n",
    "\n",
    "# 字母組成的非空字串\n",
    "print('abc'.isalpha())\n",
    "print('123'.isalpha())\n",
    "\n",
    "# decimal\n",
    "print('100'.isdecimal())\n",
    "print('100.5'.isdecimal())\n",
    "\n",
    "# digit\n",
    "print('100'.isdigit())\n",
    "print('100.5'.isdigit())\n",
    "\n",
    "# isnumeric\n",
    "print('100'.isnumeric())\n",
    "print('thisis100'.isnumeric())\n",
    "\n",
    "# space\n",
    "print('   '.isspace())\n",
    "print('a  '.isspace())\n",
    "\n",
    "# lower\n",
    "print('abc'.islower())\n",
    "print('Abc'.islower())\n",
    "\n",
    "# upper\n",
    "print('ABC'.isupper())\n",
    "print('Abc'.isupper())\n",
    "\n",
    "# title\n",
    "print('Abc'.istitle())\n",
    "print('ABC'.istitle())\n",
    "\n",
    "# identifier\n",
    "print('num_a123'.isidentifier())\n",
    "print('1num_a12'.isidentifier())\n",
    "\n",
    "# isprintable\n",
    "print('12324'.isprintable())\n",
    "print('\\n'.isprintable())"
   ]
  },
  {
   "cell_type": "markdown",
   "metadata": {},
   "source": [
    "### 切割"
   ]
  },
  {
   "cell_type": "code",
   "execution_count": 33,
   "metadata": {},
   "outputs": [
    {
     "name": "stdout",
     "output_type": "stream",
     "text": [
      "['a', 'b', 'c', 'd', 'e']\n",
      "['a', 'b', 'c', 'de']\n",
      "dokelung 100\n"
     ]
    }
   ],
   "source": [
    "# split: split string to list\n",
    "print('a,b,c,d,e'.split(','))\n",
    "print('a  b\\tc de'.split())\n",
    "\n",
    "# split and assign\n",
    "name, score, _ = 'dokelung:100:good score'.split(':')\n",
    "print(name, score)"
   ]
  },
  {
   "cell_type": "code",
   "execution_count": 36,
   "metadata": {},
   "outputs": [
    {
     "name": "stdout",
     "output_type": "stream",
     "text": [
      "this is a good day!\n",
      "i want to go out and play.\n",
      "this is a good day! i want to go out and play.\n"
     ]
    }
   ],
   "source": [
    "# split lines\n",
    "lines = 'this is a good day!\\ni want to go out and play.'\n",
    "print(lines)\n",
    "\n",
    "# split lines and assign\n",
    "line1, line2 = lines.splitlines()\n",
    "print(line1, line2)"
   ]
  },
  {
   "cell_type": "code",
   "execution_count": 46,
   "metadata": {},
   "outputs": [
    {
     "name": "stdout",
     "output_type": "stream",
     "text": [
      "('7F', '-', '3')\n",
      "7F 3\n",
      "john\n",
      "99\n"
     ]
    }
   ],
   "source": [
    "# partition\n",
    "print('7F-3'.partition('-'))\n",
    "\n",
    "# partition and assign\n",
    "floor, _, room = '7F-3'.partition('-')\n",
    "print(floor, room)\n",
    "\n",
    "# rpartition\n",
    "s = 'john:mary=100:99'\n",
    "first, _, remain = s.partition(':')\n",
    "print(first)\n",
    "remain, _, last = s.rpartition(':')\n",
    "print(last)"
   ]
  },
  {
   "cell_type": "markdown",
   "metadata": {},
   "source": [
    "### 字串處理練習\n",
    "\n",
    "```python\n",
    "input_url = 'dokelung<->1988.09.03'\n",
    "output_lst = [1988, 9, 3]\n",
    "```\n",
    "\n",
    "```python\n",
    "input_url = 'http://www.python.org/i/do/not/know/what/it/is'\n",
    "output_str = 'i do not know what it is'\n",
    "```\n",
    "\n",
    "```python\n",
    "input_path = '/user/dokelung/project/PyCoure/XXXX.md'\n",
    "output_str = 'XXXX'\n",
    "```\n",
    "\n",
    "### 取代"
   ]
  },
  {
   "cell_type": "code",
   "execution_count": 48,
   "metadata": {},
   "outputs": [
    {
     "name": "stdout",
     "output_type": "stream",
     "text": [
      "dokelung loves R so much. R! R! R! R is the best programming language in the world!!!\n"
     ]
    }
   ],
   "source": [
    "# replace\n",
    "s = 'dokelung loves python so much. python! python! python! python is the best programming language in the world!!!'\n",
    "new_s = s.replace('python', 'R')\n",
    "print(new_s)"
   ]
  },
  {
   "cell_type": "markdown",
   "metadata": {},
   "source": [
    "### 清理"
   ]
  },
  {
   "cell_type": "code",
   "execution_count": 52,
   "metadata": {},
   "outputs": [
    {
     "name": "stdout",
     "output_type": "stream",
     "text": [
      "This is a book\n",
      "This is a pen\n"
     ]
    }
   ],
   "source": [
    "# strip\n",
    "s = '    \\t   This is a book\\n\\n\\n   '\n",
    "print(s.strip())\n",
    "\n",
    "s = '   @@@@@@@This is a pen$$$@@@@$'\n",
    "print(s.strip('@$ '))\n",
    "\n",
    "# lstrip\n",
    "# rstrip"
   ]
  },
  {
   "cell_type": "markdown",
   "metadata": {},
   "source": [
    "### 大小寫轉換"
   ]
  },
  {
   "cell_type": "code",
   "execution_count": 65,
   "metadata": {},
   "outputs": [
    {
     "name": "stdout",
     "output_type": "stream",
     "text": [
      "ABCDEFG\n",
      "abcdefg\n",
      "ABCdeFG\n",
      "Abcdefg\n",
      "Abcdefg\n"
     ]
    }
   ],
   "source": [
    "print('abcDEfg'.upper())\n",
    "print('abcDEfg'.lower())\n",
    "print('abcDEfg'.swapcase())\n",
    "print('abcDEfg'.capitalize())\n",
    "print('abcDEfg'.title())"
   ]
  },
  {
   "cell_type": "markdown",
   "metadata": {},
   "source": [
    "### 尋找"
   ]
  },
  {
   "cell_type": "code",
   "execution_count": 64,
   "metadata": {},
   "outputs": [
    {
     "name": "stdout",
     "output_type": "stream",
     "text": [
      "2\n",
      "2\n",
      "5\n",
      "-1\n",
      "2\n",
      "5\n"
     ]
    },
    {
     "ename": "ValueError",
     "evalue": "substring not found",
     "output_type": "error",
     "traceback": [
      "\u001b[1;31m---------------------------------------------------------------------------\u001b[0m",
      "\u001b[1;31mValueError\u001b[0m                                Traceback (most recent call last)",
      "\u001b[1;32m<ipython-input-64-3a96c8b51295>\u001b[0m in \u001b[0;36m<module>\u001b[1;34m()\u001b[0m\n\u001b[0;32m     10\u001b[0m \u001b[0mprint\u001b[0m\u001b[1;33m(\u001b[0m\u001b[1;34m'abcdecde'\u001b[0m\u001b[1;33m.\u001b[0m\u001b[0mindex\u001b[0m\u001b[1;33m(\u001b[0m\u001b[1;34m'c'\u001b[0m\u001b[1;33m)\u001b[0m\u001b[1;33m)\u001b[0m\u001b[1;33m\u001b[0m\u001b[0m\n\u001b[0;32m     11\u001b[0m \u001b[0mprint\u001b[0m\u001b[1;33m(\u001b[0m\u001b[1;34m'abcdecde'\u001b[0m\u001b[1;33m.\u001b[0m\u001b[0mrindex\u001b[0m\u001b[1;33m(\u001b[0m\u001b[1;34m'c'\u001b[0m\u001b[1;33m)\u001b[0m\u001b[1;33m)\u001b[0m\u001b[1;33m\u001b[0m\u001b[0m\n\u001b[1;32m---> 12\u001b[1;33m \u001b[0mprint\u001b[0m\u001b[1;33m(\u001b[0m\u001b[1;34m'abcdeced'\u001b[0m\u001b[1;33m.\u001b[0m\u001b[0mindex\u001b[0m\u001b[1;33m(\u001b[0m\u001b[1;34m'z'\u001b[0m\u001b[1;33m)\u001b[0m\u001b[1;33m)\u001b[0m\u001b[1;33m\u001b[0m\u001b[0m\n\u001b[0m",
      "\u001b[1;31mValueError\u001b[0m: substring not found"
     ]
    }
   ],
   "source": [
    "# count\n",
    "print('abcdecde'.count('cd'))\n",
    "\n",
    "# find index with find\n",
    "print('abcdecde'.find('c'))\n",
    "print('abcdecde'.rfind('c'))\n",
    "print('abcdeced'.find('z'))\n",
    "\n",
    "# find index with index\n",
    "print('abcdecde'.index('c'))\n",
    "print('abcdecde'.rindex('c'))\n",
    "print('abcdeced'.index('z'))"
   ]
  },
  {
   "cell_type": "markdown",
   "metadata": {},
   "source": [
    "### 格式化"
   ]
  },
  {
   "cell_type": "code",
   "execution_count": 66,
   "metadata": {},
   "outputs": [
    {
     "data": {
      "text/plain": [
       "\"Hi, I am dokelung. I am 18 years old. I love ['python', 'C++']\""
      ]
     },
     "execution_count": 66,
     "metadata": {},
     "output_type": "execute_result"
    }
   ],
   "source": [
    "'Hi, I am {0}. I am {1} years old. I love {2}'.format('dokelung', 18, ['python', 'C++'])"
   ]
  },
  {
   "cell_type": "code",
   "execution_count": 67,
   "metadata": {},
   "outputs": [
    {
     "data": {
      "text/plain": [
       "\"Hi, I am dokelung. I am 18 years old. I love ['python', 'C++']\""
      ]
     },
     "execution_count": 67,
     "metadata": {},
     "output_type": "execute_result"
    }
   ],
   "source": [
    "'Hi, I am {}. I am {} years old. I love {}'.format('dokelung', 18, ['python', 'C++'])"
   ]
  },
  {
   "cell_type": "code",
   "execution_count": 68,
   "metadata": {},
   "outputs": [
    {
     "data": {
      "text/plain": [
       "\"Hi, I am dokelung. I am 18 years old. I love ['python', 'C++']\""
      ]
     },
     "execution_count": 68,
     "metadata": {},
     "output_type": "execute_result"
    }
   ],
   "source": [
    "'Hi, I am {name}. I am {age} years old. I love {things}'.format(name='dokelung', age=18, things=['python', 'C++'])"
   ]
  }
 ],
 "metadata": {
  "kernelspec": {
   "display_name": "Python 3",
   "language": "python",
   "name": "python3"
  },
  "language_info": {
   "codemirror_mode": {
    "name": "ipython",
    "version": 3
   },
   "file_extension": ".py",
   "mimetype": "text/x-python",
   "name": "python",
   "nbconvert_exporter": "python",
   "pygments_lexer": "ipython3",
   "version": "3.6.1"
  }
 },
 "nbformat": 4,
 "nbformat_minor": 2
}
