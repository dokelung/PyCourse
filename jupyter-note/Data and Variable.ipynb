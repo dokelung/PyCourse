{
 "cells": [
  {
   "cell_type": "markdown",
   "metadata": {},
   "source": [
    "# Variable and Data (dokelung @ 2017.10.03)\n",
    "\n",
    "* 變數參照\n",
    "* 整數與浮點數\n",
    "* 布林值\n",
    "* 字串\n",
    "* 清單\n",
    "* 元組\n",
    "* 字典\n",
    "* 巢狀結構\n",
    "* 群集的好處\n",
    "* 可變與不可變"
   ]
  },
  {
   "cell_type": "markdown",
   "metadata": {},
   "source": [
    "## 變數參照\n",
    "\n",
    "介紹過資料型態後，有一個重要的觀念務必要了解，那就是變數參照。\n",
    "\n",
    "```python\n",
    ">>> result = 2\n",
    "```\n",
    "\n",
    "在這個例子中，`result` 這個變數被指派了 `2` 這個整數，但事實上，Python 並沒有讓 `result` 直接記錄著 `2`，而是找了一個可以儲存 `2` 這個整數的空間(容器)，並讓 `result` 參考(指向)到了該空間，這好像是說`result` 其實只是一張標籤，上面寫了儲存物的儲存位置而已。\n",
    "\n",
    "我們說變數 `result` **參照** 了 `2` 這個整數。\n",
    "\n",
    "那參照的重要性在哪裡呢？我們來看以下的例子:\n",
    "\n",
    "```python\n",
    ">>> result = 2\n",
    ">>> result = 3.0\n",
    ">>> result = 'hello'\n",
    ">>> result = [1, 2, 3]\n",
    "```\n",
    "\n",
    "我們發現，一個變數不但能夠儲存不同型態的資料，還能夠隨時更換儲存的資料型態。\n",
    "\n",
    "這在靜態語言中是不可能的事情，因為一個真正的容器只能裝合適的內容物，就像裝水要用水瓶一樣，靜態語言的變數就如同這些真正的容器，所以每個變數也都具有特定的型態並且只能裝該型態的資料，這也是為什麼靜態語言都需要進行變數宣告的原因。\n",
    "\n",
    "而 Python 的變數並非真正的容器，他不過是張標籤，參照了某個裝資料的容器罷了(好像是隔層儲存！)，當我需要他記錄別種形態的資料時，我們只要用一個合適的容器裝著該資料，並且改改標籤，變換一下參照的容器就好了。\n",
    "\n",
    "這點有好也有壞，好處是，這對於程式設計師而言簡直是太方便了，減少了宣告的工作量，變數也能夠隨時更換所儲存資料的類型。但是缺點則是隔層的存取畢竟是慢一點點，還有更主要的，當有錯誤發生時，我們比較難發現。因此我們必須要非常清楚某個變數中目前參照的資料型態究竟是什麼！"
   ]
  },
  {
   "cell_type": "code",
   "execution_count": null,
   "metadata": {
    "collapsed": true
   },
   "outputs": [],
   "source": [
    "result = 2\n",
    "result = 3.0\n",
    "result = 'hello'\n",
    "result = [1, 2, 3]\n",
    "print(result)"
   ]
  },
  {
   "cell_type": "markdown",
   "metadata": {},
   "source": [
    "## 整數與浮點數\n",
    "\n",
    "我們來看一些 **整數** 做運算的例子:\n",
    "\n",
    "```python\n",
    ">>> 2 - 3\n",
    "-1\n",
    ">>> 2 * 3\n",
    "6\n",
    ">>> 6 / 4\n",
    "1.5\n",
    ">>> 6 // 4\n",
    "1\n",
    ">>> 6 % 4\n",
    "2\n",
    ">>> 2 ** 6\n",
    "64\n",
    "```\n",
    "\n",
    "上例示範了如何做 **減法(`-`)**、**乘法(`*`)**、**除法(`/` 及 `//`)**、**取餘數(`%`)** 和 **指數運算**(`2**6`代表 `2` 的六次方！)。\n",
    "\n",
    "我們會發現一個有趣的地方，Python 有兩種不一樣的除法，一個是會除盡且可能產生浮點數的單斜線除法 `/`，另一個則是會得到整數商的雙斜線除法 `//`。\n",
    "\n",
    "> Python2 跟大部分的語言中的除法 `/`，都是非除盡的除法，只有 Python3 提供了兩種不同的除法。\n",
    "\n",
    "小數也就是我們所謂的 **浮點數**，基本的運算也包含了加減乘除，也能夠取餘數，我們快速的來看一下浮點數的運算吧:\n",
    "\n",
    "```python\n",
    ">>> 1.2 + 2\n",
    "3.2\n",
    ">>> 1.2e2 - 10\n",
    "110.0\n",
    ">>> 3.2 / 1.1\n",
    "2.909090909090909\n",
    ">>> 4.2 % 3.2\n",
    "1.0\n",
    "```\n",
    "\n",
    "我們發現，浮點數運算的結果會是浮點數，即使是跟整數一同運算，返回值依然會是浮點數，這是因為 Python 預設會用比較精確的資料型態來作為運算的結果。\n",
    "\n",
    "其次，浮點數也支援科學記號，`1.2e2`代表的是： `1.2` 乘以 `10` 的平方，也就是 `120`，減掉 `10` 之後結果當然是 `110.0`。\n",
    "\n",
    "而最後一個算式我們也發現: 浮點數居然也支援取餘數，這真是有點神奇阿！"
   ]
  },
  {
   "cell_type": "markdown",
   "metadata": {},
   "source": [
    "## 布林值\n",
    "\n",
    "布林值就是真假值，在 Python 中我們用 `True` 代表真，用 `False` 代表假，真與假的運算也只會是真假值，這種運算稱為邏輯運算，詳細的討論請參見運算一節。\n",
    "\n",
    "> 要注意在 Python 中，`True` 跟 `False` 的第一個字母都要大寫！"
   ]
  },
  {
   "cell_type": "markdown",
   "metadata": {},
   "source": [
    "## 字串\n",
    "\n",
    "我們稱任何一個符號叫做 **字元**，而字元的序列就叫 **字串**，不過在 Python 中沒有真正的字元，一個字元請大家把它當作長度為 1 的字串，看以下範例:\n",
    "\n",
    "```python\n",
    ">>> string = ''\n",
    ">>> string_a = 'h'\n",
    ">>> string_b = 'ello'\n",
    ">>> string_a + string_b\n",
    "'hello'\n",
    "```\n",
    "\n",
    "`''` (這種沒有內容的字串，我們稱為空字串)、`'h'`、`'ello'`、`'hello'`都是字串，長度分別為 0、1、4、和 5，字串必須以 **成對的引號** 括住，不論是單引號或是雙引號都可以，例如 `'hello'` 和 `\"hello\"` 是等價的。\n",
    "\n",
    "這個機制能夠方便我們寫出含有引號的字串如:\n",
    "\n",
    "```python\n",
    "string_c = \"It's a good day!\"\n",
    "string_d = 'My name is \"dokelung\".'\n",
    "```\n",
    "\n",
    "而加號 (`+`) 對於字串型態而言並非加法而是串接，所以`string_a + string_b`的結果是`'hello'`。\n",
    "\n",
    "### 文件字串 (doc string)\n",
    "\n",
    "另外，我們也可以用 **三雙引號 (`\"\"\"`)** 或 **三單引號 (`'''`)** 來製造跨行的字串:\n",
    "\n",
    "```python\n",
    "string_e = \"\"\"\n",
    "today is\n",
    "a good day!\n",
    "\"\"\"\n",
    "\n",
    "print(string_e)\n",
    "```\n",
    "\n",
    "我們會發現，使用三引號製造出來的字串不僅能跨行，還可以保留它字面上的形式，比如說第一行的 today 前面有 4 個空白，第二行的 a 前面有 1 個 `tab` 縮排等。讀者們可以自行製造幾個這樣的字串並用 `print` 印出來看看。對了!這樣的字串有個特別的名字叫做 **doc string**，文件字串。\n",
    "\n",
    "> 之所以這種字串叫做文件字串，是因為該種字串常出現在類別或函式定義中來說明用途跟使用的方式，用以作為說明文件。\n",
    "\n",
    "### 跳脫字元\n",
    "\n",
    "在字串中，還有一群很特殊的字元叫作 **跳脫字元(escape charater)**，這些字元通常代表著一些效果而非符號，比如說:\n",
    "\n",
    "```python\n",
    "print('hello world\\n')\n",
    "```\n",
    "\n",
    "我們會發現，`\\n` 讓我們多換了一行，這裡的 `\\n` 跳脫了字串，跳脫了符號，所以才有這樣的名字。\n",
    "\n",
    "跳脫字元通常都由一個倒斜線加上其他符號組成，所以若要印出倒斜線本身，我們得使用雙倒斜線以免誤會。\n",
    "\n",
    "下表列出一些常見的跳脫字元:\n",
    "\n",
    "| 跳脫字元 | 說明 |\n",
    "|---|:---|\n",
    "| \\\\ | 倒斜線 |\n",
    "| \\' | 單引號 |\n",
    "| \\\" | 雙引號 |\n",
    "| \\a | 鈴響 |\n",
    "| \\b | 退格 |\n",
    "| \\n | 換行 |\n",
    "| \\t | 縮排 |\n",
    "\n",
    "### 編碼\n",
    "\n",
    "關於字串我們還有最後一個問題，我們可以使用非英文的字串嗎？答案是可以的，Python3 全面支援 Unicode 編碼。"
   ]
  },
  {
   "cell_type": "code",
   "execution_count": 2,
   "metadata": {
    "collapsed": false
   },
   "outputs": [
    {
     "data": {
      "text/plain": [
       "'hello'"
      ]
     },
     "execution_count": 2,
     "metadata": {},
     "output_type": "execute_result"
    }
   ],
   "source": [
    "string = ''\n",
    "string_a = 'h'\n",
    "string_b = 'ello'\n",
    "string_a + string_b\n",
    "'hello'"
   ]
  },
  {
   "cell_type": "code",
   "execution_count": 1,
   "metadata": {
    "collapsed": false
   },
   "outputs": [
    {
     "name": "stdout",
     "output_type": "stream",
     "text": [
      "\n",
      "today is\n",
      "a good day!\n",
      "\n"
     ]
    }
   ],
   "source": [
    "string_e = \"\"\"\n",
    "today is\n",
    "a good day!\n",
    "\"\"\"\n",
    "print(string_e)"
   ]
  },
  {
   "cell_type": "code",
   "execution_count": 3,
   "metadata": {
    "collapsed": false
   },
   "outputs": [
    {
     "name": "stdout",
     "output_type": "stream",
     "text": [
      "hello world\n",
      "\n"
     ]
    }
   ],
   "source": [
    "print('hello world\\n')"
   ]
  },
  {
   "cell_type": "markdown",
   "metadata": {},
   "source": [
    "## 清單\n",
    "\n",
    "在這裡我們要來介紹我們的第一個 **群集物件**: **清單 (又名串列)**，清單是一個序列，我們能夠存放任何型態的資料在我們的清單中:\n",
    "\n",
    "```python\n",
    ">>> lst = ['dokelung', 27, None]\n",
    "```\n",
    "\n",
    "清單的特徵是中括號，裡面可以擺置任意數量的元素，彼此以逗號(`,`)隔開。\n",
    "\n",
    "> 有一點我們要了解， 由於 Python 是動態語言，使用的是物件參照，所以每個元素可以是同型態的資料也可以是不同型態的資料。\n",
    "\n",
    "`lst` 這個清單的長度為 3，有三個元素，第一個元素為一個字串，第二個元素是個整數，第三個元素是 `None`，若我們想要分別取出這些元素可以使用中括號`[]`:\n",
    "\n",
    "```python\n",
    ">>> lst[0]\n",
    "'dokelung'\n",
    ">>> lst[1]\n",
    "27\n",
    ">>> lst[-1]\n",
    "None\n",
    "```\n",
    "\n",
    "在這裡，我們不用 `lst[2]` 來拿到第二個元素 `None`，而使用了 `lst[-1]`，代表是該清單的倒數第一個元素。以此類推，使用負號我們可以取得由尾部數來第幾個元素。\n",
    "\n",
    "我們可以很輕易的用這種方式改變清單中的元素:\n",
    "\n",
    "```python\n",
    ">>> lst[1] = 28\n",
    ">>> lst\n",
    "['dokelung', 28, None]\n",
    "```\n",
    "\n",
    "我們要如何加入一個新的元素到清單中呢，使用`append`方法:\n",
    "\n",
    "```python\n",
    ">>> lst.append('New')\n",
    ">>> lst\n",
    "['dokelung', 28, None, 'New']\n",
    "```\n",
    "\n",
    "也可以使用`pop`來彈出:\n",
    "\n",
    "```python\n",
    ">>> first_element = lst.pop(0)\n",
    ">>> first_element\n",
    "'dokelung'\n",
    ">>> lst\n",
    "[28, None, 'New']\n",
    "```\n",
    "\n",
    "`lst.pop(0)`將會彈出 `lst` 中第零個元素。\n",
    "\n",
    "我們可以利用 `sort`方法來排序清單中的資料:\n",
    "\n",
    "```python\n",
    ">>> lst = [1,3,5,2,4]\n",
    ">>> lst.sort()\n",
    ">>> lst\n",
    "[1, 2, 3, 4, 5]\n",
    "```\n",
    "\n",
    "> 其他重要的清單方法請參考 Python documents。"
   ]
  },
  {
   "cell_type": "code",
   "execution_count": 6,
   "metadata": {
    "collapsed": false
   },
   "outputs": [
    {
     "name": "stdout",
     "output_type": "stream",
     "text": [
      "dokelung\n",
      "27\n",
      "None\n",
      "['dokelung', 28, None]\n",
      "['dokelung', 28, None, 'New']\n",
      "dokelung\n",
      "[28, None, 'New']\n",
      "[1, 2, 3, 4, 5]\n"
     ]
    }
   ],
   "source": [
    "lst = ['dokelung', 27, None]\n",
    "print(lst[0])\n",
    "print(lst[1])\n",
    "print(lst[-1])\n",
    "\n",
    "lst[1] = 28\n",
    "print(lst)\n",
    "\n",
    "lst.append('New')\n",
    "print(lst)\n",
    "\n",
    "first_element = lst.pop(0)\n",
    "print(first_element)\n",
    "print(lst)\n",
    "\n",
    "lst = [1,3,5,2,4]\n",
    "lst.sort()\n",
    "print(lst)"
   ]
  },
  {
   "cell_type": "markdown",
   "metadata": {},
   "source": [
    "## 元組\n",
    "\n",
    "**元組** 跟清單非常類似，都是序列，但是元組的每個元素都是不可變動的，而且元組的特徵是小括號`()`:\n",
    "\n",
    "```python\n",
    ">>> t = (1, 2, 3)\n",
    ">>> t[0]\n",
    "1\n",
    ">>> t[1] = 0\n",
    "TypeError\n",
    "```\n",
    "\n",
    "我們發現如果試圖更動元組的元素，將會出現 `TypeError` 的錯誤。\n",
    "\n",
    "另外，使用元組有一個要注意的點是: 因為單純的小括號在運算裡面有優先運算的意思:\n",
    "\n",
    "```python\n",
    "a = (5+3)*2\n",
    "```\n",
    "\n",
    "所以我們在撰寫單元素的元組時，必須強制加上一個分隔的逗號:\n",
    "\n",
    "```python\n",
    "t = (1,)\n",
    "```\n",
    "\n",
    "這樣才能表明 `t` 為元組，否則 Python 會有誤判的情形，如: `t=(1)`，Python 會誤判為 `t=1`。"
   ]
  },
  {
   "cell_type": "code",
   "execution_count": 7,
   "metadata": {
    "collapsed": false
   },
   "outputs": [
    {
     "name": "stdout",
     "output_type": "stream",
     "text": [
      "1\n"
     ]
    },
    {
     "ename": "TypeError",
     "evalue": "'tuple' object does not support item assignment",
     "output_type": "error",
     "traceback": [
      "\u001b[0;31m---------------------------------------------------------------------------\u001b[0m",
      "\u001b[0;31mTypeError\u001b[0m                                 Traceback (most recent call last)",
      "\u001b[0;32m<ipython-input-7-43dddbfe2112>\u001b[0m in \u001b[0;36m<module>\u001b[0;34m()\u001b[0m\n\u001b[1;32m      1\u001b[0m \u001b[0mt\u001b[0m \u001b[0;34m=\u001b[0m \u001b[0;34m(\u001b[0m\u001b[0;36m1\u001b[0m\u001b[0;34m,\u001b[0m \u001b[0;36m2\u001b[0m\u001b[0;34m,\u001b[0m \u001b[0;36m3\u001b[0m\u001b[0;34m)\u001b[0m\u001b[0;34m\u001b[0m\u001b[0m\n\u001b[1;32m      2\u001b[0m \u001b[0mprint\u001b[0m\u001b[0;34m(\u001b[0m\u001b[0mt\u001b[0m\u001b[0;34m[\u001b[0m\u001b[0;36m0\u001b[0m\u001b[0;34m]\u001b[0m\u001b[0;34m)\u001b[0m\u001b[0;34m\u001b[0m\u001b[0m\n\u001b[0;32m----> 3\u001b[0;31m \u001b[0mt\u001b[0m\u001b[0;34m[\u001b[0m\u001b[0;36m1\u001b[0m\u001b[0;34m]\u001b[0m \u001b[0;34m=\u001b[0m \u001b[0;36m0\u001b[0m\u001b[0;34m\u001b[0m\u001b[0m\n\u001b[0m",
      "\u001b[0;31mTypeError\u001b[0m: 'tuple' object does not support item assignment"
     ]
    }
   ],
   "source": [
    "t = (1, 2, 3)\n",
    "print(t[0])\n",
    "t[1] = 0"
   ]
  },
  {
   "cell_type": "code",
   "execution_count": 8,
   "metadata": {
    "collapsed": false
   },
   "outputs": [
    {
     "name": "stdout",
     "output_type": "stream",
     "text": [
      "1\n",
      "(1,)\n"
     ]
    }
   ],
   "source": [
    "print((1))\n",
    "print((1,))"
   ]
  },
  {
   "cell_type": "markdown",
   "metadata": {},
   "source": [
    "## 字典\n",
    "\n",
    "**字典** 是另一個重要的資料結構，他並非序列，而是一種映射型的資料型態，他的特徵是大括號 `{}`:\n",
    "\n",
    "```python\n",
    ">>> dic = {'name':'dokelung', 'age':27}\n",
    ">>> dic['name']\n",
    "'dokelung'\n",
    ">>> dic['age']\n",
    "27\n",
    "```\n",
    "\n",
    "我們在定義一個字典時，會寫出一對一對的 **鍵值對 (key/value pair)**，比方說: `'name':'dokelung'`就是一個鍵值對，`'name'` 是 **鍵 (key)**，`'dokelung'` 是 **值 (value)**，我們透過中括號可以用鍵取得對應的值。\n",
    "\n",
    "我們可以改變一個鍵對應的值或是幫字典增加一個鍵值對，都使用中括號:\n",
    "\n",
    "```python\n",
    ">>> dic['age'] = 28\n",
    ">>> dic\n",
    "{'age': 28, 'name': 'dokelung'}\n",
    ">>> dic['gender'] = 'male'\n",
    "{'age': 28, 'gender': 'male', 'name': 'dokelung'}\n",
    "```\n",
    "\n",
    "至於怎麼樣的資料可以當做鍵，哪種可以當做值呢？ 不可變的資料可以當做鍵 (嚴謹地講應該是可雜湊的資料可以當作鍵)，而所有資料都可以當做值，通常我們會使用字串來當做鍵，表達力跟安全性都比較高。\n",
    "\n",
    "> 我們會在稍後說明何謂不可變的資料，若想要深入了解字典的鍵與可雜湊資料，歡迎讀者多去找資料瞭解。"
   ]
  },
  {
   "cell_type": "code",
   "execution_count": 9,
   "metadata": {
    "collapsed": false
   },
   "outputs": [
    {
     "name": "stdout",
     "output_type": "stream",
     "text": [
      "dokelung 27\n",
      "{'name': 'dokelung', 'age': 28}\n",
      "{'name': 'dokelung', 'gender': 'male', 'age': 28}\n"
     ]
    }
   ],
   "source": [
    "dic = {'name':'dokelung', 'age':27}\n",
    "print(dic['name'], dic['age'])\n",
    "\n",
    "dic['age'] = 28\n",
    "print(dic)\n",
    "\n",
    "dic['gender'] = 'male'\n",
    "print(dic)"
   ]
  },
  {
   "cell_type": "markdown",
   "metadata": {},
   "source": [
    "## 巢狀結構\n",
    "\n",
    "既然我們提過的群集資料型態都可以放入任何型態的資料，那麼群集裡面有群集就不那麼讓人意外了。\n",
    "\n",
    "我們看個簡單的例子，我們會發現在清單中有清單:\n",
    "\n",
    "```python\n",
    "person = ['dokelung', 27, [1988, 9, 30]]\n",
    "```\n",
    "\n",
    "沒錯！清單中的清單，甚至是清單中的清單的清單都完全沒有問題，他們都是合法的。\n",
    "\n",
    "## 矩陣\n",
    "\n",
    "我們再來看一個例子，這是個 2X5 的矩陣:\n",
    "\n",
    "```python\n",
    "matrix = [\n",
    "[1, 2, 3, 4, 5],\n",
    "[5, 4, 3, 2, 1]\n",
    "]\n",
    "print(matrix[1][3]) # 結果是2\n",
    "```\n",
    "\n",
    "若我們要取出第二行第四列的元素，用 `matrix[1][3]` 就行了。\n",
    "\n",
    "我們來分析一下，`matrix[1]` 會拿到 `matrix` 的第 1 個元素，也就是清單 `[5, 4, 3, 2, 1]`，接著我們再使用 `matrix[1][3]` 提取他的第 3 個元素 `2`。\n",
    "\n",
    "不只如此，字典中也能擺放字典，甚至清單中擺放字典或字典中擺放清單都不是問題呢！"
   ]
  },
  {
   "cell_type": "code",
   "execution_count": 10,
   "metadata": {
    "collapsed": false
   },
   "outputs": [
    {
     "name": "stdout",
     "output_type": "stream",
     "text": [
      "2\n"
     ]
    }
   ],
   "source": [
    "matrix = [\n",
    "    [1, 2, 3, 4, 5],\n",
    "    [5, 4, 3, 2, 1]\n",
    "]\n",
    "print(matrix[1][3])"
   ]
  },
  {
   "cell_type": "markdown",
   "metadata": {},
   "source": [
    "## 群集的好處\n",
    "\n",
    "這邊稍微來探討一下使用群集的好處。\n",
    "\n",
    "比如說今天我們要記錄班上同學的成績:\n",
    "\n",
    "```python\n",
    "# 不使用群集\n",
    "\n",
    "score_1 = 90\n",
    "score_2 = 99\n",
    "score_3 = 45\n",
    "score_4 = 63\n",
    "...\n",
    "```\n",
    "\n",
    "這樣做固然沒錯，但是當班上同學一多的時候，不知道要撰寫多少個變數才夠。\n",
    "\n",
    "相反地，我們可以使用清單:\n",
    "\n",
    "```python\n",
    "# 使用群集\n",
    "\n",
    "scores = [90, 99, 45, 63, ...]\n",
    "```\n",
    "\n",
    "這樣做我們只用到了一個變數，**減少變數名稱** 的使用量是他的第一個好處。\n",
    "\n",
    "接著我們來算算成績的總和，如果不使用群集:\n",
    "\n",
    "```python\n",
    "# 不使用群集\n",
    "\n",
    "total = score_1 + score_2 + score_3 ...\n",
    "```\n",
    "\n",
    "會發現由於變數繁多，必須要花大量的時間跟空間來寫出名稱。\n",
    "\n",
    "```python\n",
    "# 使用群集\n",
    "\n",
    "total = sum(scores)\n",
    "```\n",
    "\n",
    "很簡單的透過 `sum` 這個函式 (不要緊張，後面會介紹到)，就能加總 `scores` 這個清單中所有的元素了！\n",
    "\n",
    "**可以將元素統一進行運算** 是第二個好處。\n",
    "\n",
    "其他還有像是存取具有系統性、能顯示元素間的關聯性、好管理等都是我們使用群集的理由，其實歸納起來想法很簡單，我用一個東西就能夠裝載著我需要的資料，會比起每個資料用一個東西裝載好，因為我們要搬運的時候，不會需要搬太多東西，這一點很明顯地表現在我們為了變數所花的打字時間。"
   ]
  },
  {
   "cell_type": "markdown",
   "metadata": {},
   "source": [
    "## 可變與不可變\n",
    "\n",
    "資料型態有所謂的 **可變** 以及 **不可變**。\n",
    "\n",
    "所謂的可變是指，該變數所參照的物件本身能否被改變。\n",
    "\n",
    "我們先來看看整數:\n",
    "\n",
    "```python\n",
    "a = 1\n",
    "a = 2\n",
    "```\n",
    "\n",
    "還記得物件參照的概念嗎？ `a` 這個變數並非容器本身，他是先參照到 `1`，再參照到 `2`，裝載 `1` 的容器跟裝載 `2` 的容器是不同的，他改變了標籤上的位置，但是參照到的物件本身並沒有改變，變的是參照的對象。\n",
    "\n",
    "除了整數之外，浮點數及字串也是不可變的，我們可以簡單的試驗:\n",
    "\n",
    "```python\n",
    "string = 'abc'\n",
    "string[1] = 'x'\n",
    "TypeError\n",
    "```\n",
    "\n",
    "我們發現要去更動字串的內容是不可能的，因為他參照到的東西不可變。\n",
    "\n",
    "再看一個例子:\n",
    "\n",
    "```python\n",
    "string = 'abc'\n",
    "string = 'x'\n",
    "```\n",
    "\n",
    "為什麼這樣不會有錯呢？因為我們並沒有去更動不可變的資料，我們更動的是變數的參照物(就跟整數一樣)。\n",
    "\n",
    "同樣的，我們來看看清單:\n",
    "\n",
    "```python\n",
    "lst = [1, 2, 3]\n",
    "lst[1] = 0\n",
    "```\n",
    "\n",
    "這樣就是完全合法的代碼，那是因為 `lst` 其實就是一系列的物件參照(標籤)，標籤自然是可以改的，當我們寫出`lst[1] = 0` 的時候，只是將 `lst` 參照的第二張標籤參照的對象從 `2` 改為 `0`。所以我們說清單是可變的資料型態，當然字典也是。"
   ]
  },
  {
   "cell_type": "code",
   "execution_count": 11,
   "metadata": {
    "collapsed": false
   },
   "outputs": [
    {
     "ename": "TypeError",
     "evalue": "'str' object does not support item assignment",
     "output_type": "error",
     "traceback": [
      "\u001b[0;31m---------------------------------------------------------------------------\u001b[0m",
      "\u001b[0;31mTypeError\u001b[0m                                 Traceback (most recent call last)",
      "\u001b[0;32m<ipython-input-11-522bb82d1a7b>\u001b[0m in \u001b[0;36m<module>\u001b[0;34m()\u001b[0m\n\u001b[1;32m      1\u001b[0m \u001b[0mstring\u001b[0m \u001b[0;34m=\u001b[0m \u001b[0;34m'abc'\u001b[0m\u001b[0;34m\u001b[0m\u001b[0m\n\u001b[0;32m----> 2\u001b[0;31m \u001b[0mstring\u001b[0m\u001b[0;34m[\u001b[0m\u001b[0;36m1\u001b[0m\u001b[0;34m]\u001b[0m \u001b[0;34m=\u001b[0m \u001b[0;34m'x'\u001b[0m\u001b[0;34m\u001b[0m\u001b[0m\n\u001b[0m",
      "\u001b[0;31mTypeError\u001b[0m: 'str' object does not support item assignment"
     ]
    }
   ],
   "source": [
    "string = 'abc'\n",
    "string[1] = 'x'"
   ]
  },
  {
   "cell_type": "code",
   "execution_count": null,
   "metadata": {
    "collapsed": true
   },
   "outputs": [],
   "source": [
    "string = 'abc'\n",
    "string = 'x'\n",
    "\n",
    "lst = [1, 2, 3]\n",
    "dic = {lst: 0}\n",
    "lst.append(1)"
   ]
  }
 ],
 "metadata": {
  "kernelspec": {
   "display_name": "Python 3",
   "language": "python",
   "name": "python3"
  },
  "language_info": {
   "codemirror_mode": {
    "name": "ipython",
    "version": 3
   },
   "file_extension": ".py",
   "mimetype": "text/x-python",
   "name": "python",
   "nbconvert_exporter": "python",
   "pygments_lexer": "ipython3",
   "version": "3.5.1"
  }
 },
 "nbformat": 4,
 "nbformat_minor": 1
}
