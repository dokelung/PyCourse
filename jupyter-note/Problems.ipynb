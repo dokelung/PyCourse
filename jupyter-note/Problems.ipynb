{
 "cells": [
  {
   "cell_type": "markdown",
   "metadata": {},
   "source": [
    "# Problems (dokelung@2017.10.03)"
   ]
  },
  {
   "cell_type": "markdown",
   "metadata": {},
   "source": [
    "## Q1. Print the first 20 Fabonacci numbers from 0,1,…\n",
    "\n",
    "0, 1, 1, 2, 3, 5, ..."
   ]
  },
  {
   "cell_type": "code",
   "execution_count": null,
   "metadata": {
    "collapsed": true
   },
   "outputs": [],
   "source": []
  },
  {
   "cell_type": "markdown",
   "metadata": {},
   "source": [
    "## Q2. Two Sum\n",
    "\n",
    "Given an array of integers, return indices of the two numbers such that they add up to a specific target.\n",
    "\n",
    "You may assume that each input would have exactly one solution, and you may not use the same element twice.\n",
    "\n",
    "Example:\n",
    "\n",
    "```text\n",
    "Given nums = [2, 7, 11, 15], target = 9,\n",
    "\n",
    "Because nums[0] + nums[1] = 2 + 7 = 9,\n",
    "return [0, 1].\n",
    "```\n",
    "\n",
    "[LeetCode-TwoSum](https://leetcode.com/problems/two-sum/description/)"
   ]
  },
  {
   "cell_type": "code",
   "execution_count": 17,
   "metadata": {
    "collapsed": false
   },
   "outputs": [
    {
     "name": "stdout",
     "output_type": "stream",
     "text": [
      "Your answer is correct\n",
      "Cost: 0.30546348999996553\n"
     ]
    }
   ],
   "source": [
    "DATA = [\n",
    "    #{'target': 9, 'elements': [2, 7, 11, 15]},\n",
    "    {'target': 11, 'elements': [1, 3, 5, 2, 8]},\n",
    "]\n",
    "\n",
    "def check_answer(data, sol_func):\n",
    "    for datum in data:\n",
    "        i, j = sol_func(datum['elements'], datum['target'])\n",
    "        x = datum['elements'][i]\n",
    "        y = datum['elements'][j]\n",
    "        if not x+y==datum['target']:\n",
    "            return False\n",
    "    return True\n",
    "\n",
    "def two_sum(elements, target):\n",
    "    for i in range(0,len(elements)):\n",
    "        for j in range(i+1,len(elements)):\n",
    "            #print(elements[i],elements[j])\n",
    "            if elements[i] + elements[j] == target:\n",
    "                return [i,j]\n",
    "            \n",
    "\n",
    "if check_answer(DATA, two_sum):\n",
    "    print('Your answer is correct')\n",
    "else:\n",
    "    print('Your answer is wrong')\n",
    "    \n",
    "import timeit\n",
    "cost = timeit.timeit('check_answer(DATA, two_sum)', number=100000, globals={'check_answer': check_answer, 'DATA':DATA, 'two_sum':two_sum})\n",
    "print('Cost:', cost)"
   ]
  },
  {
   "cell_type": "code",
   "execution_count": null,
   "metadata": {
    "collapsed": true
   },
   "outputs": [],
   "source": []
  }
 ],
 "metadata": {
  "kernelspec": {
   "display_name": "Python 3",
   "language": "python",
   "name": "python3"
  },
  "language_info": {
   "codemirror_mode": {
    "name": "ipython",
    "version": 3
   },
   "file_extension": ".py",
   "mimetype": "text/x-python",
   "name": "python",
   "nbconvert_exporter": "python",
   "pygments_lexer": "ipython3",
   "version": "3.5.1"
  }
 },
 "nbformat": 4,
 "nbformat_minor": 1
}
