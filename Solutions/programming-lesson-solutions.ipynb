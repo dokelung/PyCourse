{
 "cells": [
  {
   "cell_type": "markdown",
   "metadata": {},
   "source": [
    "# Programming Lesson Solutions"
   ]
  },
  {
   "cell_type": "markdown",
   "metadata": {},
   "source": [
    "## P-Lesson-1-what-is-programming\n",
    "\n",
    "### 1. 計算英文文章每個字母出現的次數\n",
    "\n",
    "```\n",
    "1. 為每個字母設置一個計數器\n",
    "2. 走訪文章中的字母，一個接著一個\n",
    "  * 碰到 a 則將 a 的計數加一，碰到 b 則將 b 的計數加一，以此類推\n",
    "```\n",
    "\n",
    "### 2. 猜數字遊戲，如何比對玩家猜的數字與正確答案而給出幾 A 幾 B 的提示\n",
    "\n",
    "```\n",
    "(在這個題目中，我們有一個玩家猜的四位數和一個正確答案的四位數，假設任一個四位數不會有重複的數字存在)\n",
    "1. 為 A 和 B 個別設置一個計數器\n",
    "2. 走訪玩家猜的四位數中的每個數字，一個接著一個\n",
    "  * 假設現在走訪到第 k 個數字(我們叫他 guess[k])\n",
    "    * 比對正確答案的的第 k 個數字(我們叫他 answer[k])\n",
    "      * 如果兩者相同，則 A 的計數加一(位置跟數字都對)\n",
    "      * 如果兩者不同，則走訪正確答案中除了第 k 個數字(answer[k])外的其他數字，一個接著一個\n",
    "        * 假設現在走訪到 answer[i]\n",
    "          * 如果 guess[k] 跟 answer[i] 一樣的話，B 的計數加一(位置不對，數字對)\n",
    "          * 停止走訪(根據題目，四位數中沒有重複的數字，而此刻已經比對 1B 成功了)\n",
    "```\n",
    "\n",
    "#### 參考的 Python code"
   ]
  },
  {
   "cell_type": "code",
   "execution_count": 6,
   "metadata": {
    "collapsed": false
   },
   "outputs": [],
   "source": [
    "def judge(guess, answer):\n",
    "    A = 0\n",
    "    B = 0\n",
    "    for k in range(4):\n",
    "        if guess[k]==answer[k]:\n",
    "            A = A + 1\n",
    "        else:\n",
    "            for i in range(4):\n",
    "                if i!=k:\n",
    "                    if guess[k]==answer[i]:\n",
    "                        B = B + 1\n",
    "                        break\n",
    "    return '{}A{}B'.format(A, B)\n",
    "\n",
    "def judge2(guess, answer):\n",
    "    \"\"\" more pythonic\n",
    "    \"\"\"\n",
    "    A, B = 0, 0\n",
    "    for g, a in zip(guess, answer):\n",
    "        if g==a:\n",
    "            A += 1\n",
    "        elif g in answer:\n",
    "            B += 1\n",
    "    return '{}A{}B'.format(A, B)"
   ]
  },
  {
   "cell_type": "code",
   "execution_count": 7,
   "metadata": {
    "collapsed": false
   },
   "outputs": [
    {
     "name": "stdout",
     "output_type": "stream",
     "text": [
      "2A1B\n",
      "2A1B\n"
     ]
    }
   ],
   "source": [
    "print(judge('1234', '4230'))\n",
    "print(judge('1234', '4230'))"
   ]
  }
 ],
 "metadata": {
  "kernelspec": {
   "display_name": "Python 3",
   "language": "python",
   "name": "python3"
  },
  "language_info": {
   "codemirror_mode": {
    "name": "ipython",
    "version": 3
   },
   "file_extension": ".py",
   "mimetype": "text/x-python",
   "name": "python",
   "nbconvert_exporter": "python",
   "pygments_lexer": "ipython3",
   "version": "3.5.1"
  }
 },
 "nbformat": 4,
 "nbformat_minor": 1
}
