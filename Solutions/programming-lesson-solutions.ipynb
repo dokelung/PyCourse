{
 "cells": [
  {
   "cell_type": "markdown",
   "metadata": {},
   "source": [
    "# Programming Lesson Solutions"
   ]
  },
  {
   "cell_type": "markdown",
   "metadata": {},
   "source": [
    "## P-L1 What is Programming\n",
    "\n",
    "### 1. 計算英文文章每個字母出現的次數\n",
    "\n",
    "```\n",
    "1. 為每個字母設置一個計數器\n",
    "2. 走訪文章中的字母，一個接著一個\n",
    "  * 碰到 a 則將 a 的計數加一，碰到 b 則將 b 的計數加一，以此類推\n",
    "```\n",
    "\n",
    "### 2. 猜數字遊戲，如何比對玩家猜的數字與正確答案而給出幾 A 幾 B 的提示\n",
    "\n",
    "```\n",
    "(在這個題目中，我們有一個玩家猜的四位數和一個正確答案的四位數，假設任一個四位數不會有重複的數字存在)\n",
    "1. 為 A 和 B 個別設置一個計數器\n",
    "2. 走訪玩家猜的四位數中的每個數字，一個接著一個\n",
    "  * 假設現在走訪到第 k 個數字(我們叫他 guess[k])\n",
    "    * 比對正確答案的的第 k 個數字(我們叫他 answer[k])\n",
    "      * 如果兩者相同，則 A 的計數加一(位置跟數字都對)\n",
    "      * 如果兩者不同，則走訪正確答案中除了第 k 個數字(answer[k])外的其他數字，一個接著一個\n",
    "        * 假設現在走訪到 answer[i]\n",
    "          * 如果 guess[k] 跟 answer[i] 一樣的話，B 的計數加一(位置不對，數字對)\n",
    "          * 停止走訪(根據題目，四位數中沒有重複的數字，而此刻已經比對 1B 成功了)\n",
    "```\n",
    "\n",
    "#### 參考的 Python code"
   ]
  },
  {
   "cell_type": "code",
   "execution_count": 6,
   "metadata": {},
   "outputs": [],
   "source": [
    "def judge(guess, answer):\n",
    "    A = 0\n",
    "    B = 0\n",
    "    for k in range(4):\n",
    "        if guess[k]==answer[k]:\n",
    "            A = A + 1\n",
    "        else:\n",
    "            for i in range(4):\n",
    "                if i!=k:\n",
    "                    if guess[k]==answer[i]:\n",
    "                        B = B + 1\n",
    "                        break\n",
    "    return '{}A{}B'.format(A, B)\n",
    "\n",
    "def judge2(guess, answer):\n",
    "    \"\"\" more pythonic\n",
    "    \"\"\"\n",
    "    A, B = 0, 0\n",
    "    for g, a in zip(guess, answer):\n",
    "        if g==a:\n",
    "            A += 1\n",
    "        elif g in answer:\n",
    "            B += 1\n",
    "    return '{}A{}B'.format(A, B)"
   ]
  },
  {
   "cell_type": "code",
   "execution_count": 7,
   "metadata": {},
   "outputs": [
    {
     "name": "stdout",
     "output_type": "stream",
     "text": [
      "2A1B\n",
      "2A1B\n"
     ]
    }
   ],
   "source": [
    "print(judge('1234', '4230'))\n",
    "print(judge('1234', '4230'))"
   ]
  },
  {
   "cell_type": "markdown",
   "metadata": {},
   "source": [
    "## P-L2: Variables and Data\n",
    "\n",
    "### 1. 寫一個程式可以進行攝氏轉華氏 `F = 9/5 * C + 32`\n",
    "### 2. 寫一個程式可以進行華氏轉攝氏 `C = (F - 32) * 5/9`"
   ]
  },
  {
   "cell_type": "code",
   "execution_count": 2,
   "metadata": {},
   "outputs": [],
   "source": [
    "# 1.寫一個程式可以進行攝氏轉華氏\n",
    "def c_to_f(c):\n",
    "    return 9/5 * c + 32\n",
    "\n",
    "# 2.寫一個程式可以進行華氏轉攝氏\n",
    "def f_to_c(f):\n",
    "    return (f-32) * 5/9"
   ]
  },
  {
   "cell_type": "code",
   "execution_count": 6,
   "metadata": {},
   "outputs": [
    {
     "name": "stdout",
     "output_type": "stream",
     "text": [
      "68.0\n",
      "36.666666666666664\n"
     ]
    }
   ],
   "source": [
    "print(c_to_f(20))\n",
    "print(f_to_c(98))"
   ]
  },
  {
   "cell_type": "markdown",
   "metadata": {},
   "source": [
    "### 3. 寫一個程式可以計算乘法公式 `(a+b)^2` 和 `(a-b)^2`"
   ]
  },
  {
   "cell_type": "code",
   "execution_count": 4,
   "metadata": {},
   "outputs": [],
   "source": [
    "# 3. 寫一個程式可以計算乘法公式 (a+b)^2 和 (a-b)^2\n",
    "def square_of_aplusb(a, b):\n",
    "    # return (a+b)**2\n",
    "    return a**2 + 2*a*b + b**2\n",
    "\n",
    "def square_of_aminusb(a, b):\n",
    "    # return (a-b)**2\n",
    "    return a**2 - 2*a*b + b**2"
   ]
  },
  {
   "cell_type": "code",
   "execution_count": 5,
   "metadata": {},
   "outputs": [
    {
     "name": "stdout",
     "output_type": "stream",
     "text": [
      "25\n",
      "1\n"
     ]
    }
   ],
   "source": [
    "print(square_of_aplusb(2, 3))\n",
    "print(square_of_aminusb(2, 1))"
   ]
  },
  {
   "cell_type": "markdown",
   "metadata": {},
   "source": [
    "## P-L3: Flow Control\n",
    "\n",
    "### 利用迴圈印出下列圖形\n",
    "\n",
    "* g1\n",
    "\n",
    "```\n",
    "*\n",
    "**\n",
    "***\n",
    "****\n",
    "*****\n",
    "******\n",
    "*******\n",
    "********\n",
    "*********\n",
    "**********\n",
    "```\n",
    "\n",
    "* g2\n",
    "\n",
    "```\n",
    "**********\n",
    "*********\n",
    "********\n",
    "*******\n",
    "******\n",
    "*****\n",
    "****\n",
    "***\n",
    "**\n",
    "*\n",
    "```\n",
    "\n",
    "* g3\n",
    "\n",
    "```\n",
    "*        *\n",
    "**      **\n",
    "***    ***\n",
    "****  ****\n",
    "**********\n",
    "```"
   ]
  },
  {
   "cell_type": "code",
   "execution_count": 11,
   "metadata": {},
   "outputs": [],
   "source": [
    "def g1():\n",
    "    for row in range(10):\n",
    "        for col in range(row):\n",
    "            print('*', end='')\n",
    "        print()\n",
    "        \n",
    "def g1_better():\n",
    "    for row in range(10):\n",
    "        print('*'*(row+1))"
   ]
  },
  {
   "cell_type": "code",
   "execution_count": 12,
   "metadata": {},
   "outputs": [
    {
     "name": "stdout",
     "output_type": "stream",
     "text": [
      "\n",
      "*\n",
      "**\n",
      "***\n",
      "****\n",
      "*****\n",
      "******\n",
      "*******\n",
      "********\n",
      "*********\n"
     ]
    }
   ],
   "source": [
    "g1() # or use g1_better()"
   ]
  },
  {
   "cell_type": "code",
   "execution_count": 16,
   "metadata": {
    "collapsed": true
   },
   "outputs": [],
   "source": [
    "def g2():\n",
    "    for row in range(10):\n",
    "        for col in range(10-row):\n",
    "            print('*', end='')\n",
    "        print()\n",
    "        \n",
    "# try to write g2_better by yourself"
   ]
  },
  {
   "cell_type": "code",
   "execution_count": 15,
   "metadata": {},
   "outputs": [
    {
     "name": "stdout",
     "output_type": "stream",
     "text": [
      "**********\n",
      "*********\n",
      "********\n",
      "*******\n",
      "******\n",
      "*****\n",
      "****\n",
      "***\n",
      "**\n",
      "*\n"
     ]
    }
   ],
   "source": [
    "g2()"
   ]
  },
  {
   "cell_type": "code",
   "execution_count": 21,
   "metadata": {
    "collapsed": true
   },
   "outputs": [],
   "source": [
    "def g3():\n",
    "    for row in range(5):\n",
    "        for col in range(10):\n",
    "            if (col < row+1) or (col >= 10-(row+1)):\n",
    "                print('*', end='')\n",
    "            else:\n",
    "                print(' ', end='')\n",
    "        print()"
   ]
  },
  {
   "cell_type": "code",
   "execution_count": 22,
   "metadata": {},
   "outputs": [
    {
     "name": "stdout",
     "output_type": "stream",
     "text": [
      "*        *\n",
      "**      **\n",
      "***    ***\n",
      "****  ****\n",
      "**********\n"
     ]
    }
   ],
   "source": [
    "g3()"
   ]
  },
  {
   "cell_type": "markdown",
   "metadata": {},
   "source": [
    "### 印出 99 乘法表"
   ]
  },
  {
   "cell_type": "code",
   "execution_count": 23,
   "metadata": {
    "collapsed": true
   },
   "outputs": [],
   "source": [
    "def table9x9():\n",
    "    for i in range(1, 10):\n",
    "        for j in range(1, 10):\n",
    "            print(i, 'x', j, '=', i*j)"
   ]
  },
  {
   "cell_type": "code",
   "execution_count": 24,
   "metadata": {},
   "outputs": [
    {
     "name": "stdout",
     "output_type": "stream",
     "text": [
      "1 x 1 = 1\n",
      "1 x 2 = 2\n",
      "1 x 3 = 3\n",
      "1 x 4 = 4\n",
      "1 x 5 = 5\n",
      "1 x 6 = 6\n",
      "1 x 7 = 7\n",
      "1 x 8 = 8\n",
      "1 x 9 = 9\n",
      "2 x 1 = 2\n",
      "2 x 2 = 4\n",
      "2 x 3 = 6\n",
      "2 x 4 = 8\n",
      "2 x 5 = 10\n",
      "2 x 6 = 12\n",
      "2 x 7 = 14\n",
      "2 x 8 = 16\n",
      "2 x 9 = 18\n",
      "3 x 1 = 3\n",
      "3 x 2 = 6\n",
      "3 x 3 = 9\n",
      "3 x 4 = 12\n",
      "3 x 5 = 15\n",
      "3 x 6 = 18\n",
      "3 x 7 = 21\n",
      "3 x 8 = 24\n",
      "3 x 9 = 27\n",
      "4 x 1 = 4\n",
      "4 x 2 = 8\n",
      "4 x 3 = 12\n",
      "4 x 4 = 16\n",
      "4 x 5 = 20\n",
      "4 x 6 = 24\n",
      "4 x 7 = 28\n",
      "4 x 8 = 32\n",
      "4 x 9 = 36\n",
      "5 x 1 = 5\n",
      "5 x 2 = 10\n",
      "5 x 3 = 15\n",
      "5 x 4 = 20\n",
      "5 x 5 = 25\n",
      "5 x 6 = 30\n",
      "5 x 7 = 35\n",
      "5 x 8 = 40\n",
      "5 x 9 = 45\n",
      "6 x 1 = 6\n",
      "6 x 2 = 12\n",
      "6 x 3 = 18\n",
      "6 x 4 = 24\n",
      "6 x 5 = 30\n",
      "6 x 6 = 36\n",
      "6 x 7 = 42\n",
      "6 x 8 = 48\n",
      "6 x 9 = 54\n",
      "7 x 1 = 7\n",
      "7 x 2 = 14\n",
      "7 x 3 = 21\n",
      "7 x 4 = 28\n",
      "7 x 5 = 35\n",
      "7 x 6 = 42\n",
      "7 x 7 = 49\n",
      "7 x 8 = 56\n",
      "7 x 9 = 63\n",
      "8 x 1 = 8\n",
      "8 x 2 = 16\n",
      "8 x 3 = 24\n",
      "8 x 4 = 32\n",
      "8 x 5 = 40\n",
      "8 x 6 = 48\n",
      "8 x 7 = 56\n",
      "8 x 8 = 64\n",
      "8 x 9 = 72\n",
      "9 x 1 = 9\n",
      "9 x 2 = 18\n",
      "9 x 3 = 27\n",
      "9 x 4 = 36\n",
      "9 x 5 = 45\n",
      "9 x 6 = 54\n",
      "9 x 7 = 63\n",
      "9 x 8 = 72\n",
      "9 x 9 = 81\n"
     ]
    }
   ],
   "source": [
    "table9x9()"
   ]
  }
 ],
 "metadata": {
  "kernelspec": {
   "display_name": "Python 3",
   "language": "python",
   "name": "python3"
  },
  "language_info": {
   "codemirror_mode": {
    "name": "ipython",
    "version": 3
   },
   "file_extension": ".py",
   "mimetype": "text/x-python",
   "name": "python",
   "nbconvert_exporter": "python",
   "pygments_lexer": "ipython3",
   "version": "3.6.3"
  }
 },
 "nbformat": 4,
 "nbformat_minor": 1
}
